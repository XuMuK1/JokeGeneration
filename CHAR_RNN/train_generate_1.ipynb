{
 "cells": [
  {
   "cell_type": "code",
   "execution_count": 2,
   "metadata": {
    "collapsed": false
   },
   "outputs": [
    {
     "name": "stdout",
     "output_type": "stream",
     "text": [
      "Collecting unidecode\n",
      "  Downloading Unidecode-1.0.22-py2.py3-none-any.whl (235kB)\n",
      "Installing collected packages: unidecode\n",
      "Successfully installed unidecode-1.0.22\n"
     ]
    },
    {
     "name": "stderr",
     "output_type": "stream",
     "text": [
      "You are using pip version 9.0.1, however version 9.0.2 is available.\n",
      "You should consider upgrading via the 'python -m pip install --upgrade pip' command.\n"
     ]
    }
   ],
   "source": []
  },
  {
   "cell_type": "code",
   "execution_count": 25,
   "metadata": {
    "collapsed": false
   },
   "outputs": [
    {
     "name": "stdout",
     "output_type": "stream",
     "text": [
      "Training for 2000 epochs...\n"
     ]
    },
    {
     "name": "stderr",
     "output_type": "stream",
     "text": [
      "  5%|█▉                                    | 99/2000 [03:35<1:10:44,  2.23s/it]"
     ]
    },
    {
     "name": "stdout",
     "output_type": "stream",
     "text": [
      "[3m 38s (100 5%) 2.0286]\n",
      "When bear a one tsimatian the so par me I's a the doms hide a hen can retter nould.\n",
      "\n",
      "There thin the do \n",
      "\n"
     ]
    },
    {
     "name": "stderr",
     "output_type": "stream",
     "text": [
      " 10%|███▋                                 | 199/2000 [07:21<1:11:53,  2.39s/it]"
     ]
    },
    {
     "name": "stdout",
     "output_type": "stream",
     "text": [
      "[7m 23s (200 10%) 1.8221]\n",
      "Whe dimman but and chearedn't all the say won for there's werretter somehoring does cofge about he dod \n",
      "\n"
     ]
    },
    {
     "name": "stderr",
     "output_type": "stream",
     "text": [
      " 15%|█████▌                               | 299/2000 [11:26<1:10:31,  2.49s/it]"
     ]
    },
    {
     "name": "stdout",
     "output_type": "stream",
     "text": [
      "[11m 29s (300 15%) 1.7421]\n",
      "What did the wife they serwarice in the gifling a going getter bartion and it.\n",
      "\n",
      "The **had.\n",
      "\n",
      "I bood bac \n",
      "\n"
     ]
    },
    {
     "name": "stderr",
     "output_type": "stream",
     "text": [
      " 20%|███████▍                             | 399/2000 [15:27<1:12:19,  2.71s/it]"
     ]
    },
    {
     "name": "stdout",
     "output_type": "stream",
     "text": [
      "[15m 31s (400 20%) 1.7022]\n",
      "What was blown is who nevery wife on my dritty.\n",
      "\n",
      "Who's the discome off... It sells I'm to prratter the \n",
      "\n"
     ]
    },
    {
     "name": "stderr",
     "output_type": "stream",
     "text": [
      " 25%|█████████▋                             | 499/2000 [19:31<59:55,  2.40s/it]"
     ]
    },
    {
     "name": "stdout",
     "output_type": "stream",
     "text": [
      "[19m 34s (500 25%) 1.6578]\n",
      "What do you have her crab in a ? You went\n",
      "\n",
      "\"Hey screw old are than a geep and up taste, make a a tough \n",
      "\n"
     ]
    },
    {
     "name": "stderr",
     "output_type": "stream",
     "text": [
      " 30%|███████████▋                           | 599/2000 [23:34<55:22,  2.37s/it]"
     ]
    },
    {
     "name": "stdout",
     "output_type": "stream",
     "text": [
      "[23m 36s (600 30%) 1.6229]\n",
      "What says \"We don't have to his pun Prote and 20 it dead to you be a slair? Because there does shade o \n",
      "\n"
     ]
    },
    {
     "name": "stderr",
     "output_type": "stream",
     "text": [
      " 35%|█████████████▋                         | 699/2000 [27:36<52:29,  2.42s/it]"
     ]
    },
    {
     "name": "stdout",
     "output_type": "stream",
     "text": [
      "[27m 38s (700 35%) 1.6058]\n",
      "What do you caus type of my nuts.\n",
      "\n",
      "why do you have a bull? A horse fat follow that makes a comy... Por \n",
      "\n"
     ]
    },
    {
     "name": "stderr",
     "output_type": "stream",
     "text": [
      " 40%|███████████████▌                       | 799/2000 [31:30<44:47,  2.24s/it]"
     ]
    },
    {
     "name": "stdout",
     "output_type": "stream",
     "text": [
      "[31m 33s (800 40%) 1.5926]\n",
      "Where's there people doesn't been? Norry wonder to be a restarts? Onuty is one.\n",
      "\n",
      "If A sabains Here Cyp \n",
      "\n"
     ]
    },
    {
     "name": "stderr",
     "output_type": "stream",
     "text": [
      " 45%|█████████████████▌                     | 899/2000 [35:30<43:22,  2.36s/it]"
     ]
    },
    {
     "name": "stdout",
     "output_type": "stream",
     "text": [
      "[35m 32s (900 45%) 1.5852]\n",
      "What even want to find a having like a shit more accidently find the room.\n",
      "\n",
      "An awals friend but I gues \n",
      "\n"
     ]
    },
    {
     "name": "stderr",
     "output_type": "stream",
     "text": [
      " 50%|███████████████████▍                   | 999/2000 [39:16<37:44,  2.26s/it]"
     ]
    },
    {
     "name": "stdout",
     "output_type": "stream",
     "text": [
      "[39m 18s (1000 50%) 1.5591]\n",
      "What do you call an asshouce for enecorday do we move a women must wear old on your handow a girls but \n",
      "\n"
     ]
    },
    {
     "name": "stderr",
     "output_type": "stream",
     "text": [
      " 55%|████████████████████▉                 | 1099/2000 [43:10<33:27,  2.23s/it]"
     ]
    },
    {
     "name": "stdout",
     "output_type": "stream",
     "text": [
      "[43m 13s (1100 55%) 1.5814]\n",
      "What do you get gang to hide and still you look origing? ...and in the moon and dead a posted.\n",
      "\n",
      "I like \n",
      "\n"
     ]
    },
    {
     "name": "stderr",
     "output_type": "stream",
     "text": [
      " 60%|██████████████████████▊               | 1199/2000 [47:06<30:59,  2.32s/it]"
     ]
    },
    {
     "name": "stdout",
     "output_type": "stream",
     "text": [
      "[47m 8s (1200 60%) 1.5338]\n",
      "Why does a phone after it.\n",
      "\n",
      "I use to keep the piece me one to this out of Steaking baby guy and really \n",
      "\n"
     ]
    },
    {
     "name": "stderr",
     "output_type": "stream",
     "text": [
      " 65%|████████████████████████▋             | 1299/2000 [51:16<28:35,  2.45s/it]"
     ]
    },
    {
     "name": "stdout",
     "output_type": "stream",
     "text": [
      "[51m 19s (1300 65%) 1.5674]\n",
      "Why is their son hear a backwardf Poop... Someone to quint.\n",
      "\n",
      "What do you get what he's at spats.\n",
      "\n",
      "How  \n",
      "\n"
     ]
    },
    {
     "name": "stderr",
     "output_type": "stream",
     "text": [
      " 70%|██████████████████████████▌           | 1399/2000 [55:23<24:38,  2.46s/it]"
     ]
    },
    {
     "name": "stdout",
     "output_type": "stream",
     "text": [
      "[55m 25s (1400 70%) 1.5352]\n",
      "Whis Well gets a cheess, but its so I whous you've stand beef for move?\n",
      "\n",
      "A weding slapes out of people \n",
      "\n"
     ]
    },
    {
     "name": "stderr",
     "output_type": "stream",
     "text": [
      " 75%|████████████████████████████▍         | 1499/2000 [59:15<18:03,  2.16s/it]"
     ]
    },
    {
     "name": "stdout",
     "output_type": "stream",
     "text": [
      "[59m 17s (1500 75%) 1.5319]\n",
      "When a buy they were sudden on the fish just letter in an a Lana stonessaurant of bad house with a bar \n",
      "\n"
     ]
    },
    {
     "name": "stderr",
     "output_type": "stream",
     "text": [
      " 80%|████████████████████████████▊       | 1599/2000 [1:02:55<13:45,  2.06s/it]"
     ]
    },
    {
     "name": "stdout",
     "output_type": "stream",
     "text": [
      "[62m 57s (1600 80%) 1.5143]\n",
      "While because you're cock, straight, get for actly brands don't be black and have in goes into out bec \n",
      "\n"
     ]
    },
    {
     "name": "stderr",
     "output_type": "stream",
     "text": [
      " 85%|██████████████████████████████▌     | 1699/2000 [1:06:17<10:10,  2.03s/it]"
     ]
    },
    {
     "name": "stdout",
     "output_type": "stream",
     "text": [
      "[66m 19s (1700 85%) 1.5143]\n",
      "What do you call a pot to bomb at the in your paughtmard likes to change a world talk.\n",
      "\n",
      "Everymons with \n",
      "\n"
     ]
    },
    {
     "name": "stderr",
     "output_type": "stream",
     "text": [
      " 90%|████████████████████████████████▍   | 1799/2000 [1:10:13<08:07,  2.43s/it]"
     ]
    },
    {
     "name": "stdout",
     "output_type": "stream",
     "text": [
      "[70m 15s (1800 90%) 1.5400]\n",
      "When the strandce? Because they have no wrong they're already to hands every money in my morning for t \n",
      "\n"
     ]
    },
    {
     "name": "stderr",
     "output_type": "stream",
     "text": [
      " 95%|██████████████████████████████████▏ | 1899/2000 [1:13:57<03:49,  2.27s/it]"
     ]
    },
    {
     "name": "stdout",
     "output_type": "stream",
     "text": [
      "[74m 0s (1900 95%) 1.5194]\n",
      "What mampon Thanks for you!\n",
      "\n",
      "What does Twitter guy and they still we all completely love that I like b \n",
      "\n"
     ]
    },
    {
     "name": "stderr",
     "output_type": "stream",
     "text": [
      "100%|███████████████████████████████████▉| 1999/2000 [1:17:39<00:02,  2.54s/it]"
     ]
    },
    {
     "name": "stdout",
     "output_type": "stream",
     "text": [
      "[77m 41s (2000 100%) 1.4724]\n",
      "What it got fun gassert as them.\n",
      "\n",
      "How many cobbing \"But I'm not a tima if your parent is the bar close \n",
      "\n"
     ]
    },
    {
     "name": "stderr",
     "output_type": "stream",
     "text": [
      "100%|████████████████████████████████████| 2000/2000 [1:17:41<00:00,  2.43s/it]\n"
     ]
    },
    {
     "name": "stdout",
     "output_type": "stream",
     "text": [
      "Saving...\n",
      "Saved as train2.pt\n"
     ]
    }
   ],
   "source": [
    "%run train.py train2.txt --model LSTM"
   ]
  },
  {
   "cell_type": "code",
   "execution_count": 10,
   "metadata": {
    "collapsed": false
   },
   "outputs": [
    {
     "name": "stdout",
     "output_type": "stream",
     "text": [
      "A coming big means in me so I was the bathroom until a bucket of graphholic about the mom when he looking the point.\n",
      "\n",
      "If you can the mistagramment have to talk it we have sex with a guy the other and said \"I like my should have a can like my drawn the ball.\"\n",
      "\n",
      "Why did the could it was use the black parge in the head? I always probably take the life.\n",
      "\n",
      "What do you call a light bulb? A could it was a shit and a trender as the person in the road.\n",
      "\n",
      "What did the pirate in the man on the same perfect? He can was two the first to watch a tarder.\n",
      "\n",
      "What do you call a lot of consider? When they see his replied him\n",
      "\n",
      "I was a librally asked me a bar in a pig when I always have a car bottle and asked if I am going to still make the most child have in common.\n",
      "\n",
      "What do you call a started and a conversation of punchline? A guy has mate\n",
      "\n",
      "What do you call a group of card? The table.\n",
      "\n",
      "What do you call a pirate I don't work? Conferends to the inside the end my best the year ball at reason of the one is a lighting.\n",
      "\n",
      "What do you call a lot of the books? Because it was in the mind.\n",
      "\n",
      "I didn't like my face to scream couldn't believe a bears of married to the base.\n",
      "\n",
      "What's the difference between a not be part and a bang with his new gay? Because they call you a bar.\n",
      "\n",
      "Why did the best the station to dear in the dick? Because it was to me.\n",
      "\n",
      "What do you call a child and a which one three men should be a grandma? An ice soldied a tack on the Canado\n",
      "\n",
      "Why do many contraction within an except things like fat? The things the first the same time.\n",
      "\n",
      "Because it was a really like the money too legs her good part of the most of your friend the head in the bad run the baraw the other sir.\n",
      "\n",
      "What do you call a guy who don't say about the box in the last single? I was a pine the balls in the find read.\n",
      "\n",
      "What does a bar as a bar that the Pressiver on the Dead have descent?\n",
      "\n",
      "What do you call a bloody and part and the dick in the babies? Because they know it's which me meat\n",
      "\n",
      "The hardest and a seal pretty contraction the puns to my car.\n",
      "\n",
      "I need to get to have a minutes thing a really movies to always the dick on my life.\n",
      "\n",
      "What do you call a crap brand of a pilot? The table who is the other dirty and a ground is like a drink in a new and a crowd.\n",
      "\n",
      "What do you call a train like a pirate? They call the that is a phote the difference between a train in your butter that a both for the word.\n",
      "\n",
      "What did the car a grandma to the other and a pick on the buck the dick? Because they stand of a guy who was are money for a car like the children card the bar in the counted in the could be a bar.\n",
      "\n",
      "Why did the was things care at the rock? \"I was things in leaded the really bella at high.\" The other the new attenting the same passed the other too could let at the game of tender.\n",
      "\n",
      "What is the difference between a bear of in the other? Because they take to change the cats.\n",
      "\n",
      "What do you call a train to the tity assage? They cannare.\n",
      "\n",
      "What did the trail and gave the bed? Because they call a bathroom.\n",
      "\n",
      "I can single of p\n"
     ]
    }
   ],
   "source": [
    "%run generate.py train.pt -l 3000 -t 0.5"
   ]
  },
  {
   "cell_type": "code",
   "execution_count": 40,
   "metadata": {
    "collapsed": false,
    "scrolled": true
   },
   "outputs": [
    {
     "name": "stdout",
     "output_type": "stream",
     "text": [
      "I like my morning and a group of the difference between a time Batman Chef Trump seem in his product in the bad stull hear a shit of my life.\n",
      "\n",
      "What do you call a redneck like a big in the terrorist is a crish once to the other day and the fire of my steal them? The baby in a scarecorn in the difference between a clown.\n",
      "\n",
      "Why do a man with the guy with a train at a cow in time to the outside in the first before the best the bulb in the bartender hand the beard before this one for the rest of the restaurant in the but on the second a day is to tell it would never have to speaking a light bulb? It's a thing the police than them, an important the other in the side.\n",
      "\n",
      "Why did the dead as he got stand of my cat while many parking in the whole at the prostitutes.\n",
      "\n",
      "What is the difference between the party box.\n",
      "\n",
      "I like my dog is a bear the unifully and a woman with the basic in the baby pictures in a bunch of beard for the first on my came of the common? Because he had a lot of the second and a first t\n"
     ]
    }
   ],
   "source": [
    "%run generate.py train2.pt -l 1000 -t 0.5 -p \"I like\""
   ]
  },
  {
   "cell_type": "markdown",
   "metadata": {},
   "source": [
    "## Train full GRU and LSTM"
   ]
  },
  {
   "cell_type": "code",
   "execution_count": 46,
   "metadata": {
    "collapsed": false
   },
   "outputs": [
    {
     "name": "stdout",
     "output_type": "stream",
     "text": [
      "Training for 3000 epochs...\n"
     ]
    },
    {
     "name": "stderr",
     "output_type": "stream",
     "text": [
      "  3%|█▎                                    | 99/3000 [02:40<1:17:15,  1.60s/it]"
     ]
    },
    {
     "name": "stdout",
     "output_type": "stream",
     "text": [
      "[2m 42s (100 3%) 2.1149]\n",
      "Whins when at one fuckland.\n",
      "\n",
      "What ast a scolaurext? Bust out and to wanting teurcle poe to hall a thee \n",
      "\n"
     ]
    },
    {
     "name": "stderr",
     "output_type": "stream",
     "text": [
      "  7%|██▍                                  | 199/3000 [05:11<1:07:03,  1.44s/it]"
     ]
    },
    {
     "name": "stdout",
     "output_type": "stream",
     "text": [
      "[5m 13s (200 6%) 1.8900]\n",
      "Why the Donniin next the coully make a blill me presmen Prepamen of differefer to the toren\n",
      "\n",
      "A word fr \n",
      "\n"
     ]
    },
    {
     "name": "stderr",
     "output_type": "stream",
     "text": [
      " 10%|███▋                                 | 299/3000 [07:40<1:03:01,  1.40s/it]"
     ]
    },
    {
     "name": "stdout",
     "output_type": "stream",
     "text": [
      "[7m 41s (300 10%) 1.8072]\n",
      "What do you hoke to the SIum with room the like but show back and collible to scion and this I'm the r \n",
      "\n"
     ]
    },
    {
     "name": "stderr",
     "output_type": "stream",
     "text": [
      " 13%|████▉                                | 399/3000 [10:02<1:00:38,  1.40s/it]"
     ]
    },
    {
     "name": "stdout",
     "output_type": "stream",
     "text": [
      "[10m 3s (400 13%) 1.7723]\n",
      "What do explts and the dropt to meet but the bar for old a mear a face a black the go all a bleation o \n",
      "\n"
     ]
    },
    {
     "name": "stderr",
     "output_type": "stream",
     "text": [
      " 17%|██████▍                                | 499/3000 [12:28<58:17,  1.40s/it]"
     ]
    },
    {
     "name": "stdout",
     "output_type": "stream",
     "text": [
      "[12m 30s (500 16%) 1.7086]\n",
      "Why do you call a common.\n",
      "\n",
      "It's the floes the diff to the Porcon! The very an elenniins.\n",
      "\n",
      "I concested  \n",
      "\n"
     ]
    },
    {
     "name": "stderr",
     "output_type": "stream",
     "text": [
      " 20%|███████▊                               | 599/3000 [14:49<56:51,  1.42s/it]"
     ]
    },
    {
     "name": "stdout",
     "output_type": "stream",
     "text": [
      "[14m 50s (600 20%) 1.6817]\n",
      "What do you can the batters.\n",
      "\n",
      "I read off the bolb... .... . .... because it's allend and waters when t \n",
      "\n"
     ]
    },
    {
     "name": "stderr",
     "output_type": "stream",
     "text": [
      " 23%|█████████                              | 699/3000 [17:12<55:21,  1.44s/it]"
     ]
    },
    {
     "name": "stdout",
     "output_type": "stream",
     "text": [
      "[17m 13s (700 23%) 1.6661]\n",
      "What do you call a like that day all name somefore there's a parts look aften some together butter ask \n",
      "\n"
     ]
    },
    {
     "name": "stderr",
     "output_type": "stream",
     "text": [
      " 27%|██████████▍                            | 799/3000 [19:36<51:38,  1.41s/it]"
     ]
    },
    {
     "name": "stdout",
     "output_type": "stream",
     "text": [
      "[19m 38s (800 26%) 1.6477]\n",
      "What dingli works in tech auting those couldn't tere our snaked to clean say, tell you have to get whe \n",
      "\n"
     ]
    },
    {
     "name": "stderr",
     "output_type": "stream",
     "text": [
      " 30%|███████████▋                           | 899/3000 [21:58<49:11,  1.40s/it]"
     ]
    },
    {
     "name": "stdout",
     "output_type": "stream",
     "text": [
      "[22m 0s (900 30%) 1.6324]\n",
      "What's a blowin Rose.\n",
      "\n",
      "I guy poop?\n",
      "\n",
      "I am unstree hold laugh eat in Joke for the brown home back and he \n",
      "\n"
     ]
    },
    {
     "name": "stderr",
     "output_type": "stream",
     "text": [
      " 33%|████████████▉                          | 999/3000 [24:20<47:16,  1.42s/it]"
     ]
    },
    {
     "name": "stdout",
     "output_type": "stream",
     "text": [
      "[24m 21s (1000 33%) 1.6406]\n",
      "What's the difference between a dick in't meat of weaging to be cilcoper Goorroke Day like there don't \n",
      "\n"
     ]
    },
    {
     "name": "stderr",
     "output_type": "stream",
     "text": [
      " 37%|█████████████▉                        | 1099/3000 [26:42<44:02,  1.39s/it]"
     ]
    },
    {
     "name": "stdout",
     "output_type": "stream",
     "text": [
      "[26m 43s (1100 36%) 1.6795]\n",
      "Why don't so bad.\n",
      "\n",
      "A: No alcead missed to a bool must a people.\n",
      "\n",
      "The press on a premores instarton cre \n",
      "\n"
     ]
    },
    {
     "name": "stderr",
     "output_type": "stream",
     "text": [
      " 40%|███████████████▏                      | 1199/3000 [29:03<42:27,  1.41s/it]"
     ]
    },
    {
     "name": "stdout",
     "output_type": "stream",
     "text": [
      "[29m 5s (1200 40%) 1.6268]\n",
      "What?\" The blind... The dad.\n",
      "\n",
      "If you did good money.\n",
      "\n",
      "My man with a woman was a get the rad to kitch m \n",
      "\n"
     ]
    },
    {
     "name": "stderr",
     "output_type": "stream",
     "text": [
      " 43%|████████████████▍                     | 1299/3000 [31:24<40:21,  1.42s/it]"
     ]
    },
    {
     "name": "stdout",
     "output_type": "stream",
     "text": [
      "[31m 25s (1300 43%) 1.5874]\n",
      "What do you call leve you poteether with the right for fire, to hear a respond doesn't to go it to a c \n",
      "\n"
     ]
    },
    {
     "name": "stderr",
     "output_type": "stream",
     "text": [
      " 47%|█████████████████▋                    | 1399/3000 [33:45<38:57,  1.46s/it]"
     ]
    },
    {
     "name": "stdout",
     "output_type": "stream",
     "text": [
      "[33m 47s (1400 46%) 1.6014]\n",
      "Who like good handers away and I can at the per-aft guy who other. How many light be stop a radients l \n",
      "\n"
     ]
    },
    {
     "name": "stderr",
     "output_type": "stream",
     "text": [
      " 50%|██████████████████▉                   | 1499/3000 [36:07<34:47,  1.39s/it]"
     ]
    },
    {
     "name": "stdout",
     "output_type": "stream",
     "text": [
      "[36m 9s (1500 50%) 1.5877]\n",
      "What did the good of before the other of your years at my with her the sure is the sunjews here should \n",
      "\n"
     ]
    },
    {
     "name": "stderr",
     "output_type": "stream",
     "text": [
      " 53%|████████████████████▎                 | 1599/3000 [38:29<32:52,  1.41s/it]"
     ]
    },
    {
     "name": "stdout",
     "output_type": "stream",
     "text": [
      "[38m 31s (1600 53%) 1.6044]\n",
      "Why do, but he ask you both start. Starts of who enough you a deating peffering the firet Men. Get her \n",
      "\n"
     ]
    },
    {
     "name": "stderr",
     "output_type": "stream",
     "text": [
      " 57%|█████████████████████▌                | 1699/3000 [40:51<29:58,  1.38s/it]"
     ]
    },
    {
     "name": "stdout",
     "output_type": "stream",
     "text": [
      "[40m 52s (1700 56%) 1.5482]\n",
      "What do jacking in Connets robbers hoskey? \"Your Dippear some people orgal freee? Putterants ME: knog  \n",
      "\n"
     ]
    },
    {
     "name": "stderr",
     "output_type": "stream",
     "text": [
      " 60%|██████████████████████▊               | 1799/3000 [43:12<28:30,  1.42s/it]"
     ]
    },
    {
     "name": "stdout",
     "output_type": "stream",
     "text": [
      "[43m 14s (1800 60%) 1.5762]\n",
      "Whatic instead. So, I've can you want to really seen the sleep into the collective Auband Person hours \n",
      "\n"
     ]
    },
    {
     "name": "stderr",
     "output_type": "stream",
     "text": [
      " 63%|████████████████████████              | 1899/3000 [45:34<25:49,  1.41s/it]"
     ]
    },
    {
     "name": "stdout",
     "output_type": "stream",
     "text": [
      "[45m 35s (1900 63%) 1.5790]\n",
      "Why did. I was asked me.\n",
      "\n",
      "About the bulb. Jud: I was my front in the ball with started butter and the  \n",
      "\n"
     ]
    },
    {
     "name": "stderr",
     "output_type": "stream",
     "text": [
      " 67%|█████████████████████████▎            | 1999/3000 [47:54<23:33,  1.41s/it]"
     ]
    },
    {
     "name": "stdout",
     "output_type": "stream",
     "text": [
      "[47m 56s (2000 66%) 1.5828]\n",
      "Why do' at the funeral time over and a catch in a wries you just can't laugh. Itve in my assanes what  \n",
      "\n"
     ]
    },
    {
     "name": "stderr",
     "output_type": "stream",
     "text": [
      " 70%|██████████████████████████▌           | 2099/3000 [50:16<21:32,  1.43s/it]"
     ]
    },
    {
     "name": "stdout",
     "output_type": "stream",
     "text": [
      "[50m 17s (2100 70%) 1.5753]\n",
      "What stand during a light has learned the day to the mom/call the same in your hear a sure the when Me \n",
      "\n"
     ]
    },
    {
     "name": "stderr",
     "output_type": "stream",
     "text": [
      " 73%|███████████████████████████▊          | 2199/3000 [52:38<19:16,  1.44s/it]"
     ]
    },
    {
     "name": "stdout",
     "output_type": "stream",
     "text": [
      "[52m 39s (2200 73%) 1.5811]\n",
      "What's a card high with experinally meat Penis sex. I replied then he was arms and some from.\n",
      "\n",
      "What do \n",
      "\n"
     ]
    },
    {
     "name": "stderr",
     "output_type": "stream",
     "text": [
      " 77%|█████████████████████████████         | 2299/3000 [54:59<16:06,  1.38s/it]"
     ]
    },
    {
     "name": "stdout",
     "output_type": "stream",
     "text": [
      "[55m 1s (2300 76%) 1.5408]\n",
      "Who's there you and a kid in a crammy women him but openess that they say it's going to hear love Hope \n",
      "\n"
     ]
    },
    {
     "name": "stderr",
     "output_type": "stream",
     "text": [
      " 80%|██████████████████████████████▍       | 2399/3000 [57:20<13:53,  1.39s/it]"
     ]
    },
    {
     "name": "stdout",
     "output_type": "stream",
     "text": [
      "[57m 22s (2400 80%) 1.5307]\n",
      "What is the difference between \"The Boile What are a Brade Bees, wait a surprised slow to John.\n",
      "\n",
      "With  \n",
      "\n"
     ]
    },
    {
     "name": "stderr",
     "output_type": "stream",
     "text": [
      " 83%|███████████████████████████████▋      | 2499/3000 [59:42<11:42,  1.40s/it]"
     ]
    },
    {
     "name": "stdout",
     "output_type": "stream",
     "text": [
      "[59m 43s (2500 83%) 1.5368]\n",
      "What are they got Dark Bores with a pitter and a night and go joke all nuns \"A Where When there's that \n",
      "\n"
     ]
    },
    {
     "name": "stderr",
     "output_type": "stream",
     "text": [
      " 87%|███████████████████████████████▏    | 2599/3000 [1:02:02<09:23,  1.40s/it]"
     ]
    },
    {
     "name": "stdout",
     "output_type": "stream",
     "text": [
      "[62m 3s (2600 86%) 1.5426]\n",
      "What are your father babiess? I starts to the spageler? \"Every little Day.\n",
      "\n",
      "My new shooting that peren \n",
      "\n"
     ]
    },
    {
     "name": "stderr",
     "output_type": "stream",
     "text": [
      " 90%|████████████████████████████████▍   | 2699/3000 [1:04:23<07:16,  1.45s/it]"
     ]
    },
    {
     "name": "stdout",
     "output_type": "stream",
     "text": [
      "[64m 24s (2700 90%) 1.4999]\n",
      "Why is the difference between a bus at the left a woman tank in me.\n",
      "\n",
      "Knock Knock Who's the Yupo\n",
      "\n",
      "why d \n",
      "\n"
     ]
    },
    {
     "name": "stderr",
     "output_type": "stream",
     "text": [
      " 93%|█████████████████████████████████▌  | 2799/3000 [1:06:44<04:39,  1.39s/it]"
     ]
    },
    {
     "name": "stdout",
     "output_type": "stream",
     "text": [
      "[66m 45s (2800 93%) 1.5296]\n",
      "What's the difference between this dogs will sit are farting for your so someone in the paders everyon \n",
      "\n"
     ]
    },
    {
     "name": "stderr",
     "output_type": "stream",
     "text": [
      " 97%|██████████████████████████████████▊ | 2899/3000 [1:09:05<02:20,  1.39s/it]"
     ]
    },
    {
     "name": "stdout",
     "output_type": "stream",
     "text": [
      "[69m 6s (2900 96%) 1.5324]\n",
      "Why did the wife last disagree her more that was a door and not experiles does it take the invade in t \n",
      "\n"
     ]
    },
    {
     "name": "stderr",
     "output_type": "stream",
     "text": [
      "100%|███████████████████████████████████▉| 2999/3000 [1:11:26<00:01,  1.42s/it]"
     ]
    },
    {
     "name": "stdout",
     "output_type": "stream",
     "text": [
      "[71m 28s (3000 100%) 1.4795]\n",
      "What do you call a window that are Jobs is the bartende yellow \"you wear a name. MIST the wife \"I sqor \n",
      "\n"
     ]
    },
    {
     "name": "stderr",
     "output_type": "stream",
     "text": [
      "100%|████████████████████████████████████| 3000/3000 [1:11:28<00:00,  1.44s/it]\n"
     ]
    },
    {
     "name": "stdout",
     "output_type": "stream",
     "text": [
      "Saving...\n",
      "Saved as train_full.pt\n"
     ]
    }
   ],
   "source": [
    "%run train.py train_full.txt --model LSTM --chunk_len 150 --n_epochs 3000"
   ]
  },
  {
   "cell_type": "code",
   "execution_count": 6,
   "metadata": {
    "collapsed": false
   },
   "outputs": [
    {
     "name": "stdout",
     "output_type": "stream",
     "text": [
      "A day when we an entire the other have brothers of their wife always say to the window the other me because he don't like the cheese\n",
      "\n",
      "I have been called the fat a pick of the met a final store his dad the police is best and funny that a bank. I was soched on the very diet does it take to know why I was the include to the world blonde and then what I have to do.\n",
      "\n",
      "What do you call a blops are surprised the can from Pressing is a doctor a new but I have a started to be funny shooting and a pizza are it with a light bully in the started in the first dinner balls does to the bartender and then I like my face and the screw the light bulb. I'll be the blonde with the chicken.\n",
      "\n",
      "I just was here and a time the man and the light they're been their storm that you want to little and the little back for canner who was all the same in the probably walks into a bar.\n",
      "\n",
      "What do you call a sister and a part of brain and the rest to an another broke in a common? The same down like the country make the cat on the first other for the bar. The difference between a woman is a bar and says \"I was the first wearing on the joke about the police.\n",
      "\n",
      "I really get my wife who says \"hey the bar... ...he can use me in the bar. They are his new shoe the first politicians in the dear quick to a store of completely put it with a brain out of your fat like I have to change a come to screw in a woman would be a guy who can't see his side of probably like her for organic spretty to the poop the guy.\n",
      "\n",
      "I was a blue and a penis of the superball says I'm anyone put or on the bottom with a real everything for a book? A guys with his playing the same been farted her hearing the same the sporter of the world of the word I would be the stays wear they are so sorry to pick. I don't like the charger and the most of the cat.\n",
      "\n",
      "So But my dad should be a bar on the dead But you is the boss it become the house who stop can and with a fire has like my short.\n",
      "\n",
      "What do you call a bar and the secondle the house the back to the friend of a bar say to the bar Student man who say they never call out of the first pronoons who can can can should the only like I was so the street that he grands.\n",
      "\n",
      "If you could have to pay the difference between a person with his chorses are the same dog of the bartender from Artender ? Sander spider of a bus a girlfriend is decorth one\n",
      "\n",
      "I was like the world What do you call a lightbulbs with a bar enough to her a fuck a bank to the same like a blonde who can't suck a horse is the card and my pick refuses are the chicken before my party.\n",
      "\n",
      "What do you call a bar and a black man and was a race. I have to make a blonde and you on the floor and the bar.\n",
      "\n",
      "How do you call a guy with a guy and a book great a sitting the change a time back call in the people in the mother of the side of beer and when I look at computer because they call you for the street looking a blonde the graps and someone and a day don't pay my face because they won't screw in the week her my women and a girlfriend is a shit currine says \"I have to charge a condered a dick in the chicken from the only Baby say \"I was the good the closet to the toilet.\n",
      "\n",
      "I was an out to the street of the only call the letter in the first of the arms are you on the doctor's more the father have it my back.\n",
      "\n",
      "The posted people and the bottom and has a lightbulb? A man with the children says \"Sir Michael for the prostitutes should the other have in common. \"You can be a cool are a boot the shit and a for one to be a getting a bitch. I'm the world I was a man with a sexually having an universe\" got the doctor while they are probably.\n",
      "\n",
      "What do you call a dog? A childries Hey I would be a pruney & as the other is in the job.\n",
      "\n",
      "I have been commercial with a pick Knice have a story of a doger was a boy could be really school the bartender in the other fighted the shit of the right of the confiest breast and a water jobs, I have my fat when she just made a bar. They were some way to really be a building of feet, \"I tried to hear about the trip.\n",
      "\n",
      "What do you call a bear that good to the lesbians of the asshole like a blind with a constipped the same joke to the same trour and the anar does it take to see it would be the best day when they were all my cow and a red to the only be a Mexican is a completely pretty take a served the one control in the first friend and say when he was really be sex with the doctor can't replied \"I'll be a spider. I like my time the second of a music... He was leave me when he was done and a difference between a joke about the lowers in the gay have a butter word and falls are the bar.\n",
      "\n",
      "What do you call a man porches and started? They can't get it.\n",
      "\n",
      "The first doing a coingrate plane killed the sign of their down a politician and a car and in a bar with a cool to a bar loses to see her plane with my brain respect in the time.\n",
      "\n",
      "I would be a condestestion children and the first for like to the bar and for a bank and the post a blonde and a porn in the scare the phone on the same in t\n"
     ]
    }
   ],
   "source": [
    "%run generate.py train_full.pt -l 5000 -t 0.5"
   ]
  },
  {
   "cell_type": "code",
   "execution_count": 47,
   "metadata": {
    "collapsed": false
   },
   "outputs": [
    {
     "name": "stdout",
     "output_type": "stream",
     "text": [
      "Training for 2000 epochs...\n"
     ]
    },
    {
     "name": "stderr",
     "output_type": "stream",
     "text": [
      "  5%|█▉                                      | 99/2000 [02:50<54:56,  1.73s/it]"
     ]
    },
    {
     "name": "stdout",
     "output_type": "stream",
     "text": [
      "[2m 52s (100 5%) 2.1227]\n",
      "Whe shiir on when a than beaver There a setilf, Woring a crong Urands a paly how mad.\n",
      "\n",
      "Why call comefe \n",
      "\n"
     ]
    },
    {
     "name": "stderr",
     "output_type": "stream",
     "text": [
      " 10%|███▉                                   | 199/2000 [05:42<51:24,  1.71s/it]"
     ]
    },
    {
     "name": "stdout",
     "output_type": "stream",
     "text": [
      "[5m 44s (200 10%) 1.8816]\n",
      "Why do a girl creallas iname.\n",
      "\n",
      "A care to of do I at I doas out a prook and a does a care be? Excell mi \n",
      "\n"
     ]
    },
    {
     "name": "stderr",
     "output_type": "stream",
     "text": [
      " 15%|█████▊                                 | 299/2000 [08:36<48:11,  1.70s/it]"
     ]
    },
    {
     "name": "stdout",
     "output_type": "stream",
     "text": [
      "[8m 38s (300 15%) 1.7467]\n",
      "What do you cchildulted of the both Chircusa why action the bar prodenty bird.\" They he been peuse.\n",
      "\n",
      "W \n",
      "\n"
     ]
    },
    {
     "name": "stderr",
     "output_type": "stream",
     "text": [
      " 20%|███████▊                               | 399/2000 [11:28<46:43,  1.75s/it]"
     ]
    },
    {
     "name": "stdout",
     "output_type": "stream",
     "text": [
      "[11m 29s (400 20%) 1.8015]\n",
      "Why never lot a Leaping? Many like the lobably in the bar\n",
      "\n",
      "Any stopus called that their wear where lik \n",
      "\n"
     ]
    },
    {
     "name": "stderr",
     "output_type": "stream",
     "text": [
      " 25%|█████████▋                             | 499/2000 [14:20<43:22,  1.73s/it]"
     ]
    },
    {
     "name": "stdout",
     "output_type": "stream",
     "text": [
      "[14m 21s (500 25%) 1.7206]\n",
      "What is a kid but people? \"not the persons.\n",
      "\n",
      "[died of bear have remotist the friself I would be theral \n",
      "\n"
     ]
    },
    {
     "name": "stderr",
     "output_type": "stream",
     "text": [
      " 30%|███████████▋                           | 599/2000 [17:12<39:56,  1.71s/it]"
     ]
    },
    {
     "name": "stdout",
     "output_type": "stream",
     "text": [
      "[17m 14s (600 30%) 1.7133]\n",
      "What do you call it would say to say they like say a good? He so walking to make me it a lot and a bat \n",
      "\n"
     ]
    },
    {
     "name": "stderr",
     "output_type": "stream",
     "text": [
      " 35%|█████████████▋                         | 699/2000 [20:03<37:21,  1.72s/it]"
     ]
    },
    {
     "name": "stdout",
     "output_type": "stream",
     "text": [
      "[20m 4s (700 35%) 1.6498]\n",
      "White grows a coming a belivener, then a wife in my factor jokes Out time both Amilly Today I causents \n",
      "\n"
     ]
    },
    {
     "name": "stderr",
     "output_type": "stream",
     "text": [
      " 40%|███████████████▌                       | 799/2000 [22:55<34:48,  1.74s/it]"
     ]
    },
    {
     "name": "stdout",
     "output_type": "stream",
     "text": [
      "[22m 57s (800 40%) 1.6415]\n",
      "What's makes minuce golfer, notter with the both? Last belotion No Pantil of durny Dane.\n",
      "\n",
      "How does it  \n",
      "\n"
     ]
    },
    {
     "name": "stderr",
     "output_type": "stream",
     "text": [
      " 45%|█████████████████▌                     | 899/2000 [25:48<31:14,  1.70s/it]"
     ]
    },
    {
     "name": "stdout",
     "output_type": "stream",
     "text": [
      "[25m 50s (900 45%) 1.5783]\n",
      "What do you call a fake the hook.\n",
      "\n",
      "You see 10 persons areson.... ..........but their great all the den \n",
      "\n"
     ]
    },
    {
     "name": "stderr",
     "output_type": "stream",
     "text": [
      " 50%|███████████████████▍                   | 999/2000 [28:42<28:36,  1.71s/it]"
     ]
    },
    {
     "name": "stdout",
     "output_type": "stream",
     "text": [
      "[28m 43s (1000 50%) 1.6231]\n",
      "Why did  Stendering whist and the strange, her first change they want bunch and presidentect is furivi \n",
      "\n"
     ]
    },
    {
     "name": "stderr",
     "output_type": "stream",
     "text": [
      " 55%|███████████████████▊                | 1099/2000 [8:48:32<33:41,  2.24s/it]"
     ]
    },
    {
     "name": "stdout",
     "output_type": "stream",
     "text": [
      "[528m 34s (1100 55%) 1.6069]\n",
      "What do you could hear? Because they can too surprose, of all your make my Shower.\n",
      "\n",
      "I told me my date  \n",
      "\n"
     ]
    },
    {
     "name": "stderr",
     "output_type": "stream",
     "text": [
      " 60%|█████████████████████▌              | 1199/2000 [8:51:31<23:02,  1.73s/it]"
     ]
    },
    {
     "name": "stdout",
     "output_type": "stream",
     "text": [
      "[531m 33s (1200 60%) 1.5921]\n",
      "What is a girlfrican? To take that my wife who are the wedding charge.\n",
      "\n",
      "When I am a body phone all the \n",
      "\n"
     ]
    },
    {
     "name": "stderr",
     "output_type": "stream",
     "text": [
      " 65%|███████████████████████▍            | 1299/2000 [8:54:28<22:51,  1.96s/it]"
     ]
    },
    {
     "name": "stdout",
     "output_type": "stream",
     "text": [
      "[534m 30s (1300 65%) 1.5778]\n",
      "What do you get when you coming the orage? It's a fat mine.\n",
      "\n",
      "I didn't do not see a perfectionalyly I c \n",
      "\n"
     ]
    },
    {
     "name": "stderr",
     "output_type": "stream",
     "text": [
      " 70%|█████████████████████████▏          | 1399/2000 [8:57:37<17:33,  1.75s/it]"
     ]
    },
    {
     "name": "stdout",
     "output_type": "stream",
     "text": [
      "[537m 38s (1400 70%) 1.5708]\n",
      "What do you call a condom next the fuck he? 'EA-she has no-able to encorked.\n",
      "\n",
      "What does JVING IMEAEGER \n",
      "\n"
     ]
    },
    {
     "name": "stderr",
     "output_type": "stream",
     "text": [
      " 75%|██████████████████████████▉         | 1499/2000 [9:00:30<14:25,  1.73s/it]"
     ]
    },
    {
     "name": "stdout",
     "output_type": "stream",
     "text": [
      "[540m 32s (1500 75%) 1.5704]\n",
      "Why a feminuto Snowman walnastary buy things are who trangrian's fucking life?\"\n",
      "\n",
      "What do you call a do \n",
      "\n"
     ]
    },
    {
     "name": "stderr",
     "output_type": "stream",
     "text": [
      " 80%|████████████████████████████▊       | 1599/2000 [9:03:22<11:21,  1.70s/it]"
     ]
    },
    {
     "name": "stdout",
     "output_type": "stream",
     "text": [
      "[543m 24s (1600 80%) 1.5522]\n",
      "Why are the best chickpot and my caffe while to should she died secletely the contest.\n",
      "\n",
      "What do you ca \n",
      "\n"
     ]
    },
    {
     "name": "stderr",
     "output_type": "stream",
     "text": [
      " 85%|██████████████████████████████▌     | 1699/2000 [9:12:59<10:06,  2.02s/it]"
     ]
    },
    {
     "name": "stdout",
     "output_type": "stream",
     "text": [
      "[553m 2s (1700 85%) 1.5802]\n",
      "What has bring? A your that sing\n",
      "\n",
      "I thought a crip and posted to a rokerly told the Painstricks do me  \n",
      "\n"
     ]
    },
    {
     "name": "stderr",
     "output_type": "stream",
     "text": [
      " 90%|████████████████████████████████▍   | 1799/2000 [9:16:13<06:58,  2.08s/it]"
     ]
    },
    {
     "name": "stdout",
     "output_type": "stream",
     "text": [
      "[556m 15s (1800 90%) 1.6172]\n",
      "What! I have the world, what do you call a walk with that I, checked because it's user, I said to use  \n",
      "\n"
     ]
    },
    {
     "name": "stderr",
     "output_type": "stream",
     "text": [
      " 95%|██████████████████████████████████▏ | 1899/2000 [9:19:43<03:32,  2.11s/it]"
     ]
    },
    {
     "name": "stdout",
     "output_type": "stream",
     "text": [
      "[559m 45s (1900 95%) 1.5341]\n",
      "Why did the surprised the more carry fire? New.\n",
      "\n",
      "What do you call they west pants to there with the be \n",
      "\n"
     ]
    },
    {
     "name": "stderr",
     "output_type": "stream",
     "text": [
      "100%|███████████████████████████████████▉| 1999/2000 [9:23:02<00:01,  1.94s/it]"
     ]
    },
    {
     "name": "stdout",
     "output_type": "stream",
     "text": [
      "[563m 4s (2000 100%) 1.5583]\n",
      "What was kid can't an Perful and mance of doctor? He sing in close.\n",
      "\n",
      "What did the See War to computer  \n",
      "\n"
     ]
    },
    {
     "name": "stderr",
     "output_type": "stream",
     "text": [
      "100%|████████████████████████████████████| 2000/2000 [9:23:04<00:00,  2.01s/it]\n"
     ]
    },
    {
     "name": "stdout",
     "output_type": "stream",
     "text": [
      "Saving...\n",
      "Saved as train_full_gru.pt\n"
     ]
    }
   ],
   "source": [
    "%run train.py train_full_gru.txt --chunk_len 150 --n_layers 3"
   ]
  },
  {
   "cell_type": "code",
   "execution_count": 7,
   "metadata": {
    "collapsed": false
   },
   "outputs": [
    {
     "name": "stdout",
     "output_type": "stream",
     "text": [
      "A got the idea in the bar story for called to a party and a bad with someone is so work other standing the first to the words.\n",
      "\n",
      "What do you call a new shower? Because it's burning the burn cry and a plane.\n",
      "\n",
      "What's the difference between the big neck and a called to be the spent a mate of history? They don't have in the special and my clear and I have to be the best water problem in the coffee the person and up and one is a crich over a birds\n",
      "\n",
      "Why did the pression her this a light bulb? Because he was the dead the saves a day have you do the shower confird back with the corrective.\n",
      "\n",
      "What do you call a can short boy and was with a few the cow? You're holder she was not a free with a new back.\n",
      "\n",
      "My general shower is the glosis called \"I'm going to the fucking out in the other ladder.\" \"What do you call a but they were the childs?\"\n",
      "\n",
      "Where do you do the bathroom say to change a defire and a bad say when it was a car? Because I was in the standing the fucking to sit a name so so many word must pirate.\n",
      "\n",
      "What do you call a penis a my really an always lot the father? He was a cup country.\n",
      "\n",
      "I'm worth spanta in a showing the crich condoms \"Do you call the world?\" \"Steve the son clears to be the world in a car smart\"\n",
      "\n",
      "Why did the best does it take to should be a grammar? Because they don't standing important and says we got in the grandma chicken.\n",
      "\n",
      "Why did the grave is the bad the most? He can drinchoom student.\n",
      "\n",
      "What do you call a two is a divers? Well responds my still shower with me to the woman\n",
      "\n",
      "A most a story is a lot how much a bar and a bar and a joke to a guy and just hands about my girlfriend says \"Not the road and a shit so we want to be to the still \"You're because they don't want no phone.\" \"Arresses the salendy\" this died to water with a movie.\n",
      "\n",
      "What do you call a big and singer? Second the children crill out of the dog with a black me. So said \"You should be all it was the father.\" \"My day everyone for the door on the bar...\" \"I'm the sure.\" \"I got a bad of the business the said \"the bar, you're worked to a shower \"What do you call a cool?\" \"Do you could treat on the more who can't screw about my dad?\" \"The dog totally the salted and see to get the really water \"Does it but I'm going to be really black party a still that like \"Jesus \"the raised \"comperson \"You \"I was nie \"God says!\" Sand a tatoched the cats and the coming and so close them.\n",
      "\n",
      "I was a car on with a must than a bunch of the dog time is a guy and I was a guy at the barber.\n",
      "\n",
      "What do you call a blonde out come control on the deen and called a curry in the recently says? Carriside always have a drink on the pinest have the most that didn't be the spend the called a stop a subtron.\n",
      "\n",
      "Why do replied to be really shower and wear from the bar? I couldn't be someone.\n",
      "\n",
      "I won't ever say to the world who cold is not tell it all the day and the world to the dog.\n",
      "\n",
      "I was so we would be a slimstand in the charge to be the cat in a time money to the runner.\n",
      "\n",
      "I was never pocket in a bad and probably w\n"
     ]
    }
   ],
   "source": [
    "%run generate.py train_full_gru.pt -l 3000 -t 0.5"
   ]
  },
  {
   "cell_type": "code",
   "execution_count": 9,
   "metadata": {
    "collapsed": false
   },
   "outputs": [
    {
     "name": "stdout",
     "output_type": "stream",
     "text": [
      "Training for 2000 epochs...\n"
     ]
    },
    {
     "name": "stderr",
     "output_type": "stream",
     "text": [
      "\n",
      "  0%|                                                 | 0/2000 [00:00<?, ?it/s]\n",
      "  0%|                                         | 1/2000 [00:01<44:58,  1.35s/it]\n",
      "  0%|                                         | 2/2000 [00:02<43:37,  1.31s/it]\n",
      "  0%|                                         | 3/2000 [00:04<46:35,  1.40s/it]\n",
      "  0%|                                         | 4/2000 [00:05<44:56,  1.35s/it]\n",
      "  5%|█▉                                      | 99/2000 [02:06<41:08,  1.30s/it]"
     ]
    },
    {
     "name": "stdout",
     "output_type": "stream",
     "text": [
      "[2m 7s (100 5%) 1.9662]\n",
      "Why Redring.\n",
      "\n",
      "What is leestired to storly toul for pristso outer sheriend? A rus.\n",
      "\n",
      "I women when of as  \n",
      "\n"
     ]
    },
    {
     "name": "stderr",
     "output_type": "stream",
     "text": [
      " 10%|███▉                                   | 199/2000 [04:12<35:48,  1.19s/it]"
     ]
    },
    {
     "name": "stdout",
     "output_type": "stream",
     "text": [
      "[4m 13s (200 10%) 1.7678]\n",
      "Why do me don't the fan be so is time so cnow herd a rasst grand favorot me up corn.\n",
      "\n",
      "I was splemile o \n",
      "\n"
     ]
    },
    {
     "name": "stderr",
     "output_type": "stream",
     "text": [
      " 15%|█████▊                                 | 299/2000 [06:20<34:38,  1.22s/it]"
     ]
    },
    {
     "name": "stdout",
     "output_type": "stream",
     "text": [
      "[6m 22s (300 15%) 1.7137]\n",
      "When he do you are fires care with? The prush picked\n",
      "\n",
      "What's the parts look swere rout? He could vegy  \n",
      "\n"
     ]
    },
    {
     "name": "stderr",
     "output_type": "stream",
     "text": [
      " 20%|███████▊                               | 399/2000 [08:33<32:17,  1.21s/it]"
     ]
    },
    {
     "name": "stdout",
     "output_type": "stream",
     "text": [
      "[8m 34s (400 20%) 1.6699]\n",
      "What I small shome is the sindet? That's Mexican. I have they age my $3 fam in the gaying rix ahall me \n",
      "\n"
     ]
    },
    {
     "name": "stderr",
     "output_type": "stream",
     "text": [
      " 25%|█████████▋                             | 499/2000 [10:35<31:25,  1.26s/it]"
     ]
    },
    {
     "name": "stdout",
     "output_type": "stream",
     "text": [
      "[10m 37s (500 25%) 1.6181]\n",
      "Why don't get a out of conner calling the cold? Whoo play for a marian.\n",
      "\n",
      "I love a bulb, shit he staral \n",
      "\n"
     ]
    },
    {
     "name": "stderr",
     "output_type": "stream",
     "text": [
      " 30%|███████████▋                           | 599/2000 [12:40<28:06,  1.20s/it]"
     ]
    },
    {
     "name": "stdout",
     "output_type": "stream",
     "text": [
      "[12m 42s (600 30%) 1.6107]\n",
      "Why do you tee to saver me them. Maybe between. We really bad elephant hanged.\n",
      "\n",
      "I told me dat stand a  \n",
      "\n"
     ]
    },
    {
     "name": "stderr",
     "output_type": "stream",
     "text": [
      " 35%|█████████████▋                         | 699/2000 [14:43<27:50,  1.28s/it]"
     ]
    },
    {
     "name": "stdout",
     "output_type": "stream",
     "text": [
      "[14m 44s (700 35%) 1.6223]\n",
      "When he saw persenders one man order discus down of hard you one is a friend watchalt a good the but I \n",
      "\n"
     ]
    },
    {
     "name": "stderr",
     "output_type": "stream",
     "text": [
      " 40%|███████████████▌                       | 799/2000 [16:50<29:13,  1.46s/it]"
     ]
    },
    {
     "name": "stdout",
     "output_type": "stream",
     "text": [
      "[16m 51s (800 40%) 1.5988]\n",
      "Who's the food of foxer? Noney.\n",
      "\n",
      "Hillularily was a crillood me plane lotay with the show.\n",
      "\n",
      "Why permani \n",
      "\n"
     ]
    },
    {
     "name": "stderr",
     "output_type": "stream",
     "text": [
      " 45%|█████████████████▌                     | 899/2000 [19:15<27:10,  1.48s/it]"
     ]
    },
    {
     "name": "stdout",
     "output_type": "stream",
     "text": [
      "[19m 16s (900 45%) 1.6148]\n",
      "Who year ho? A moessical but the twixicans a light blue\n",
      "\n",
      "The man have the trabber. ... ...peromn't be  \n",
      "\n"
     ]
    },
    {
     "name": "stderr",
     "output_type": "stream",
     "text": [
      " 50%|███████████████████▍                   | 999/2000 [21:20<20:23,  1.22s/it]"
     ]
    },
    {
     "name": "stdout",
     "output_type": "stream",
     "text": [
      "[21m 22s (1000 50%) 1.5859]\n",
      "What's been about really and four said? I don't know how hole need that?\n",
      "\n",
      "I'm talking in the guy fan o \n",
      "\n"
     ]
    },
    {
     "name": "stderr",
     "output_type": "stream",
     "text": [
      " 55%|████████████████████▉                 | 1099/2000 [23:32<18:34,  1.24s/it]"
     ]
    },
    {
     "name": "stdout",
     "output_type": "stream",
     "text": [
      "[23m 33s (1100 55%) 1.6139]\n",
      "What do you call? Irance was is many to be terrible thing.\n",
      "\n",
      "What do you call as a laughta from the dda \n",
      "\n"
     ]
    },
    {
     "name": "stderr",
     "output_type": "stream",
     "text": [
      " 60%|██████████████████████▊               | 1199/2000 [25:36<16:24,  1.23s/it]"
     ]
    },
    {
     "name": "stdout",
     "output_type": "stream",
     "text": [
      "[25m 37s (1200 60%) 1.5590]\n",
      "What wear his people dive. She doesn't during supported scientice.\n",
      "\n",
      "Why do drive in a baby? Male the m \n",
      "\n"
     ]
    },
    {
     "name": "stderr",
     "output_type": "stream",
     "text": [
      " 65%|████████████████████████▋             | 1299/2000 [27:40<14:14,  1.22s/it]"
     ]
    },
    {
     "name": "stdout",
     "output_type": "stream",
     "text": [
      "[27m 42s (1300 65%) 1.6077]\n",
      "Whoule wants to do a specuiloo Helloses.\n",
      "\n",
      "What does a teaster when who've walk and he was flaming boss \n",
      "\n"
     ]
    },
    {
     "name": "stderr",
     "output_type": "stream",
     "text": [
      " 70%|██████████████████████████▌           | 1399/2000 [29:46<12:31,  1.25s/it]"
     ]
    },
    {
     "name": "stdout",
     "output_type": "stream",
     "text": [
      "[29m 47s (1400 70%) 1.5383]\n",
      "What's it who is you have going to statu\n",
      "\n",
      "In the confaturian chocolicks... They think is carent thingb \n",
      "\n"
     ]
    },
    {
     "name": "stderr",
     "output_type": "stream",
     "text": [
      " 75%|████████████████████████████▍         | 1499/2000 [31:53<10:05,  1.21s/it]"
     ]
    },
    {
     "name": "stdout",
     "output_type": "stream",
     "text": [
      "[31m 54s (1500 75%) 1.5411]\n",
      "Why low Go Some death?\n",
      "\n",
      "[watch miner my first on their one for a middle] Oh you will know I haven't bo \n",
      "\n"
     ]
    },
    {
     "name": "stderr",
     "output_type": "stream",
     "text": [
      " 80%|██████████████████████████████▍       | 1599/2000 [34:06<09:53,  1.48s/it]"
     ]
    },
    {
     "name": "stdout",
     "output_type": "stream",
     "text": [
      "[34m 7s (1600 80%) 1.5880]\n",
      "What did the making like faster? because my brother in shit other with preting their night overse in a \n",
      "\n"
     ]
    },
    {
     "name": "stderr",
     "output_type": "stream",
     "text": [
      " 85%|████████████████████████████████▎     | 1699/2000 [36:09<06:08,  1.22s/it]"
     ]
    },
    {
     "name": "stdout",
     "output_type": "stream",
     "text": [
      "[36m 10s (1700 85%) 1.6057]\n",
      "When I realling i say when you do a ten and bad of so then. I wonder was us an opens and earthpar and  \n",
      "\n"
     ]
    },
    {
     "name": "stderr",
     "output_type": "stream",
     "text": [
      " 90%|██████████████████████████████████▏   | 1799/2000 [38:11<04:05,  1.22s/it]"
     ]
    },
    {
     "name": "stdout",
     "output_type": "stream",
     "text": [
      "[38m 12s (1800 90%) 1.5888]\n",
      "What every healthing say you? \"Comment: Do you know what some clean lifke?\" It's Malet they were for t \n",
      "\n"
     ]
    },
    {
     "name": "stderr",
     "output_type": "stream",
     "text": [
      " 95%|████████████████████████████████████  | 1899/2000 [40:13<02:04,  1.23s/it]"
     ]
    },
    {
     "name": "stdout",
     "output_type": "stream",
     "text": [
      "[40m 14s (1900 95%) 1.5589]\n",
      "What did the doner -Chine you to see it? Johnny.\n",
      "\n",
      "What do you give the pig joke? Because my course is  \n",
      "\n"
     ]
    },
    {
     "name": "stderr",
     "output_type": "stream",
     "text": [
      "100%|█████████████████████████████████████▉| 1999/2000 [42:15<00:01,  1.21s/it]"
     ]
    },
    {
     "name": "stdout",
     "output_type": "stream",
     "text": [
      "[42m 16s (2000 100%) 1.5774]\n",
      "Who's the doesn't find out of me and been raise far of this all my barber with the parts in his twitio \n",
      "\n"
     ]
    },
    {
     "name": "stderr",
     "output_type": "stream",
     "text": [
      "100%|██████████████████████████████████████| 2000/2000 [42:16<00:00,  1.24s/it]\n"
     ]
    },
    {
     "name": "stdout",
     "output_type": "stream",
     "text": [
      "Saving...\n",
      "Saved as train_full_gru_2.pt\n"
     ]
    }
   ],
   "source": [
    "%run train.py train_full_gru_2.txt --hidden_size 128 --chunk_len 180 --batch_size 50 --n_epochs 2000"
   ]
  },
  {
   "cell_type": "code",
   "execution_count": 22,
   "metadata": {
    "collapsed": false
   },
   "outputs": [
    {
     "name": "stdout",
     "output_type": "stream",
     "text": [
      "An are you see a man and say to seen a put is a light.\n",
      "\n",
      "What is the difference between a party say to the wearia and a skin of the other and a really and the morning place of a seas and a trade and the tried? The bank because they call me shit on the problem in the internal comes to hear a business in his past time a light bulb.\n",
      "\n",
      "I wasn't short and a pilot to be a lot of the all of the and you think they should have the computer looks women the grown in the place on my coffee because I have the punchlies common with the recent problem in a kitchen and a party.\n",
      "\n",
      "Why is a savid to me in a light? The bar wanted to her happy.\n",
      "\n",
      "I hate the spirant of a bad to be a bear of the got all of the real closee who say to the man with a house to the to your people with a compliment of the person.\n",
      "\n",
      "A farmer and a complete and snowman in a really sad a bear of a pizza oner too many to the world They are can be a party to hear about your heart to do his matter of the problem and a president.\n",
      "\n",
      "What do you call a common? Because he was recold and a tried because it's told him to did a black problem with the toilet in the bear of a condom, who? A statologist like his face the condoms.\n",
      "\n",
      "Why do as a pulled in a really and a scare and a pulled the fun and a bar of complies? They can a conful into a with my boy on in a cat and a station, with a seasian told me and the other one libicinating to help.\n",
      "\n",
      "There's a blonde called to move my pirook and a seen to the been and a publican and say the bartender and the head as the picture are a lot of an your hands in the sight when it says to a bar.\n",
      "\n",
      "What do you call an apple are the other on your bar? They know what the bar with my deprobably stop the time to be the other on the beaution\n",
      "\n",
      "Did you hear about the dick and the bear and a dear and a water bomber and a month was a best and say to the son? Because they call a feel because he was all the other find a condoms\n",
      "\n",
      "Why was the probat and the worst of a feminist tubrator from the bar say that happenis the best part bear and a guy who are parents? The Birder is pissed in a statute.\n",
      "\n",
      "What did the shower in my black pretty and a penis car in the children to the bar? Because he stake to put a book in the shower with a not complete on the point can lock.\n",
      "\n",
      "What do you call a light bulb? I'm to me to hear a buster pictures.\n",
      "\n",
      "Why was the best prostitute and a woman and have a Jewish in the most in the contration and say to pay to be all the banananance so much the farming to have a light bulb? Because he was the other on the same between you got a big out of the dog.\n",
      "\n",
      "What do you call a car and the first party and a grass and an one to the horses? Because it take the morning and the complete was a guy and a missed of the cold.\n",
      "\n",
      "My mind when they are any a recent of the bank that I fuck a man in the lints to stalk on his street who was a companimily completimist handless and the words are how to get the dick in the marriage that make a real complete men time a lot.\n",
      "\n",
      "There are probeats o\n"
     ]
    }
   ],
   "source": [
    "%run generate.py train_full_gru_2.pt -l 3000 -t 0.5"
   ]
  },
  {
   "cell_type": "code",
   "execution_count": 15,
   "metadata": {
    "collapsed": false
   },
   "outputs": [
    {
     "name": "stdout",
     "output_type": "stream",
     "text": [
      "Training for 1000 epochs...\n"
     ]
    },
    {
     "name": "stderr",
     "output_type": "stream",
     "text": [
      " 10%|███▉                                    | 99/1000 [04:00<35:04,  2.34s/it]"
     ]
    },
    {
     "name": "stdout",
     "output_type": "stream",
     "text": [
      "[4m 3s (100 10%) 1.8750]\n",
      "Whould Cussionhian says the says the ire thing sound on two the off the arout.\n",
      "\n",
      "What do you call everh \n",
      "\n"
     ]
    },
    {
     "name": "stderr",
     "output_type": "stream",
     "text": [
      " 20%|███████▊                               | 199/1000 [07:59<31:27,  2.36s/it]"
     ]
    },
    {
     "name": "stdout",
     "output_type": "stream",
     "text": [
      "[8m 1s (200 20%) 1.7357]\n",
      "What on the shot food, it's eat.\n",
      "\n",
      "I onatiented a fish your father feeges downs arase they bet detry of \n",
      "\n"
     ]
    },
    {
     "name": "stderr",
     "output_type": "stream",
     "text": [
      " 30%|███████████▋                           | 299/1000 [11:57<27:57,  2.39s/it]"
     ]
    },
    {
     "name": "stdout",
     "output_type": "stream",
     "text": [
      "[11m 59s (300 30%) 1.6619]\n",
      "What shop was story? Everyone World.\n",
      "\n",
      "Excistri confessic man with him of find a la work new used to at \n",
      "\n"
     ]
    },
    {
     "name": "stderr",
     "output_type": "stream",
     "text": [
      " 40%|███████████████▌                       | 399/1000 [15:54<23:00,  2.30s/it]"
     ]
    },
    {
     "name": "stdout",
     "output_type": "stream",
     "text": [
      "[15m 56s (400 40%) 1.6272]\n",
      "What is the sto it? Become go to least her time their president the light.\n",
      "\n",
      "\"I teating the possics of  \n",
      "\n"
     ]
    },
    {
     "name": "stderr",
     "output_type": "stream",
     "text": [
      " 50%|███████████████████▍                   | 499/1000 [19:49<18:47,  2.25s/it]"
     ]
    },
    {
     "name": "stdout",
     "output_type": "stream",
     "text": [
      "[19m 52s (500 50%) 1.5710]\n",
      "What does the kidgon make the blows doesn't say?\" , you can't the haddless but I slow.\" They're years  \n",
      "\n"
     ]
    },
    {
     "name": "stderr",
     "output_type": "stream",
     "text": [
      " 60%|███████████████████████▎               | 599/1000 [23:45<15:54,  2.38s/it]"
     ]
    },
    {
     "name": "stdout",
     "output_type": "stream",
     "text": [
      "[23m 47s (600 60%) 1.5442]\n",
      "What do you people before chicken? A many are both seach night withed.\n",
      "\n",
      "\"jerkeketers\" \"Baby \"hoid? Tea \n",
      "\n"
     ]
    },
    {
     "name": "stderr",
     "output_type": "stream",
     "text": [
      " 70%|███████████████████████████▎           | 699/1000 [27:36<11:55,  2.38s/it]"
     ]
    },
    {
     "name": "stdout",
     "output_type": "stream",
     "text": [
      "[27m 39s (700 70%) 1.5421]\n",
      "What do you call a lot a bar and gress? A Cartim. The metels, today engina with the elesbian and tell  \n",
      "\n"
     ]
    },
    {
     "name": "stderr",
     "output_type": "stream",
     "text": [
      " 80%|███████████████████████████████▏       | 799/1000 [31:25<08:44,  2.61s/it]"
     ]
    },
    {
     "name": "stdout",
     "output_type": "stream",
     "text": [
      "[31m 28s (800 80%) 1.5602]\n",
      "When your confused can was the link of bed, the great and walks into people's to like the econsual of  \n",
      "\n"
     ]
    },
    {
     "name": "stderr",
     "output_type": "stream",
     "text": [
      " 90%|███████████████████████████████████    | 899/1000 [35:40<04:39,  2.77s/it]"
     ]
    },
    {
     "name": "stdout",
     "output_type": "stream",
     "text": [
      "[35m 42s (900 90%) 1.5245]\n",
      "Where did the short night is changed me all him to really phance write in here? \"I wish I were the bar \n",
      "\n"
     ]
    },
    {
     "name": "stderr",
     "output_type": "stream",
     "text": [
      "100%|██████████████████████████████████████▉| 999/1000 [40:08<00:02,  2.29s/it]"
     ]
    },
    {
     "name": "stdout",
     "output_type": "stream",
     "text": [
      "[40m 10s (1000 100%) 1.5250]\n",
      "White you could light him off his mom was all the air? You have the other, my ME\n",
      "\n",
      "When insight still t \n",
      "\n"
     ]
    },
    {
     "name": "stderr",
     "output_type": "stream",
     "text": [
      "100%|██████████████████████████████████████| 1000/1000 [40:10<00:00,  2.27s/it]\n"
     ]
    },
    {
     "name": "stdout",
     "output_type": "stream",
     "text": [
      "Saving...\n",
      "Saved as train_full_gru_3.pt\n"
     ]
    }
   ],
   "source": [
    "%run train.py train_full_gru_3.txt --hidden_size 128 --batch_size 100 --n_epochs 1000"
   ]
  },
  {
   "cell_type": "code",
   "execution_count": 18,
   "metadata": {
    "collapsed": false
   },
   "outputs": [
    {
     "name": "stdout",
     "output_type": "stream",
     "text": [
      "Ant the time to walk into a check it was pross.\n",
      "\n",
      "What do you call a chator and business the baby when he was a bar and like a two good for only kids? A man is a really are better\n",
      "\n",
      "What do you call a really make a person who have to get the chicken call a table to come and a good bathroom? Nend of Patery.\n",
      "\n",
      "What do you call a chicken Hitler Son the day the great? A Can close me\n",
      "\n",
      "What do you call a hold and a bar down the bar red of the single and surry to hear in the baby? A Sech make the body.\n",
      "\n",
      "What do you call a big at this hands and still say to the bottle? A: Considered.\n",
      "\n",
      "I have a feminist walking Miches in the bar. Lost the mommas when the other body\n",
      "\n",
      "I told my chicken balls to a bar... ...because the laughing wonder home a world have in company of the wouldn't have could be a ground of my girlfriend and the stature words have in his rexican and they statake a bitch?\n",
      "\n",
      "What do you call a black the America walks into the chicken strong the shopping?\n",
      "\n",
      "What do drink buy the other beer people in the land? Just getting a man, but I was windows.\n",
      "\n",
      "What do you call a sex with my entire and not getting the hole and the taste when you call he would be eat for a straight and stool more girl and she was a new poor and the row her watching a bar.\n",
      "\n",
      "My friend and gives it using the world of the road shit the now.\n",
      "\n",
      "Why does a feminist bad never become a bucket? They did the entire such dentists\n",
      "\n",
      "If you all the thire feeding so I was are class to be a white when the other chemist? You like my flueter\n",
      "\n",
      "Why did the later called his most does it won't get a bar.\n",
      "\n",
      "Why do been Scat people are naper of my cheese in white called me to the chicken?\n",
      "\n",
      "My favorite and the first space and a complally pants should steal because they would have a bar. I don't have to be fact but I attise to have to have spend who makes it holes and the joke.\n",
      "\n",
      "When I die the one what it was a dick at a woman crash like you like to be a need to deleted at work when a most when the car.\n",
      "\n",
      "I was a mine say to sure my tree was a litter.\n",
      "\n",
      "What do you call a tone who got humor and a tell in the really fat while they say? That say to the Great But they are like the US we said them.\n",
      "\n",
      "What do you call a politicans in the shit that the one means? A date\n",
      "\n",
      "My wallens of the girl thing on a man was a little best down to the man who last in the world be at fife superman.\n",
      "\n",
      "The load the running the world the person's a white... The only good suck the ring of a standing an entire when you are asked for should have a six way to really be a dicks with a standing a time of the room.\n",
      "\n",
      "What do you call a light my bad called a sandwich chicken? He had a Police of the extraction\n",
      "\n",
      "How do you get the lightbulb? A family and a state what?\n",
      "\n",
      "My bowl really the scream holdy to his people the other between the way to cheate Austreet. I say to the world can't eat that it.\n",
      "\n",
      "I didn't the swimmer be a dick I was the world in the feel says \"What's the difference between the blind of in the first have a promotation?\"\n",
      "\n",
      "I want to ch\n"
     ]
    }
   ],
   "source": [
    "%run generate.py train_full_gru_3.pt -l 3000 -t 0.6"
   ]
  },
  {
   "cell_type": "code",
   "execution_count": 19,
   "metadata": {
    "collapsed": false
   },
   "outputs": [
    {
     "name": "stdout",
     "output_type": "stream",
     "text": [
      "Training for 4000 epochs...\n"
     ]
    },
    {
     "name": "stderr",
     "output_type": "stream",
     "text": [
      "  2%|▉                                     | 99/4000 [03:52<2:18:46,  2.13s/it]"
     ]
    },
    {
     "name": "stdout",
     "output_type": "stream",
     "text": [
      "[3m 54s (100 2%) 1.8731]\n",
      "What like my pentious un to be ardy suth a for I canger. Shift Hible up the walked... hos bar.\n",
      "\n",
      "I whor \n",
      "\n"
     ]
    },
    {
     "name": "stderr",
     "output_type": "stream",
     "text": [
      "  5%|█▊                                   | 199/4000 [07:56<2:31:11,  2.39s/it]"
     ]
    },
    {
     "name": "stdout",
     "output_type": "stream",
     "text": [
      "[7m 59s (200 5%) 1.6643]\n",
      "What do you gay the rumble Mexice be a facomes and enoure bed with heluse my news when then bar.\n",
      "\n",
      "Back \n",
      "\n"
     ]
    },
    {
     "name": "stderr",
     "output_type": "stream",
     "text": [
      "  7%|██▊                                  | 299/4000 [11:59<2:36:58,  2.54s/it]"
     ]
    },
    {
     "name": "stdout",
     "output_type": "stream",
     "text": [
      "[12m 1s (300 7%) 1.6510]\n",
      "Who sugger pretor constand is for sease in one not on the women cooks called some of front partistment \n",
      "\n"
     ]
    },
    {
     "name": "stderr",
     "output_type": "stream",
     "text": [
      " 10%|███▋                                 | 399/4000 [16:04<2:28:14,  2.47s/it]"
     ]
    },
    {
     "name": "stdout",
     "output_type": "stream",
     "text": [
      "[16m 6s (400 10%) 1.6112]\n",
      "What is the rows to guy courted movie nified card of his gand to try to give that is served to like to \n",
      "\n"
     ]
    },
    {
     "name": "stderr",
     "output_type": "stream",
     "text": [
      " 12%|████▌                                | 499/4000 [20:01<2:09:27,  2.22s/it]"
     ]
    },
    {
     "name": "stdout",
     "output_type": "stream",
     "text": [
      "[20m 3s (500 12%) 1.5936]\n",
      "What's the bush bad week of the eacher in the old lat the bartender accer but he was dog.\n",
      "\n",
      "What is no  \n",
      "\n"
     ]
    },
    {
     "name": "stderr",
     "output_type": "stream",
     "text": [
      " 15%|█████▌                               | 599/4000 [24:27<2:38:05,  2.79s/it]"
     ]
    },
    {
     "name": "stdout",
     "output_type": "stream",
     "text": [
      "[24m 29s (600 15%) 1.5356]\n",
      "What scan of the find the world todain in a charginer? \"Cause they can't you letter win a happy front  \n",
      "\n"
     ]
    },
    {
     "name": "stderr",
     "output_type": "stream",
     "text": [
      " 17%|██████▍                              | 699/4000 [28:54<2:33:08,  2.78s/it]"
     ]
    },
    {
     "name": "stdout",
     "output_type": "stream",
     "text": [
      "[28m 57s (700 17%) 1.5499]\n",
      "What is the Olimist pass from a book goes when the didn't do it as a not know what whisle showing of f \n",
      "\n"
     ]
    },
    {
     "name": "stderr",
     "output_type": "stream",
     "text": [
      " 20%|███████▍                             | 799/4000 [33:12<2:14:43,  2.53s/it]"
     ]
    },
    {
     "name": "stdout",
     "output_type": "stream",
     "text": [
      "[33m 14s (800 20%) 1.5516]\n",
      "What do you call a Air Duncom with a road of like? Her Post who thig soon think wants to have the coff \n",
      "\n"
     ]
    },
    {
     "name": "stderr",
     "output_type": "stream",
     "text": [
      " 22%|████████▎                            | 899/4000 [38:00<2:10:42,  2.53s/it]"
     ]
    },
    {
     "name": "stdout",
     "output_type": "stream",
     "text": [
      "[38m 2s (900 22%) 1.5130]\n",
      "What's the cheese and a worker and you say to resulted the kitchen down for life? She was looking use  \n",
      "\n"
     ]
    },
    {
     "name": "stderr",
     "output_type": "stream",
     "text": [
      " 25%|█████████▏                           | 999/4000 [42:37<2:50:19,  3.41s/it]"
     ]
    },
    {
     "name": "stdout",
     "output_type": "stream",
     "text": [
      "[42m 40s (1000 25%) 1.5417]\n",
      "What did the that in the news joke? He'll say a movie as black.\n",
      "\n",
      "did you want come of the dighf? Unman \n",
      "\n"
     ]
    },
    {
     "name": "stderr",
     "output_type": "stream",
     "text": [
      " 27%|█████████▉                          | 1099/4000 [47:29<2:13:40,  2.76s/it]"
     ]
    },
    {
     "name": "stdout",
     "output_type": "stream",
     "text": [
      "[47m 31s (1100 27%) 1.4974]\n",
      "Why did the wallege complain up concemed? That hasn't read your forecration!\n",
      "\n",
      "Knock Jones told me a fr \n",
      "\n"
     ]
    },
    {
     "name": "stderr",
     "output_type": "stream",
     "text": [
      " 30%|██████████▊                         | 1199/4000 [51:48<1:57:26,  2.52s/it]"
     ]
    },
    {
     "name": "stdout",
     "output_type": "stream",
     "text": [
      "[51m 51s (1200 30%) 1.5244]\n",
      "Why do the Frellow and Charlie Warda Sunderanguana and school? 21.\n",
      "\n",
      "I made a high an or and a street p \n",
      "\n"
     ]
    },
    {
     "name": "stderr",
     "output_type": "stream",
     "text": [
      " 32%|███████████▋                        | 1299/4000 [55:47<1:39:32,  2.21s/it]"
     ]
    },
    {
     "name": "stdout",
     "output_type": "stream",
     "text": [
      "[55m 49s (1300 32%) 1.5154]\n",
      "Who was gonally completer? She was an artiston and dischroved accool.\n",
      "\n",
      "Today I need him her boy them b \n",
      "\n"
     ]
    },
    {
     "name": "stderr",
     "output_type": "stream",
     "text": [
      " 35%|████████████▌                       | 1399/4000 [59:48<1:47:44,  2.49s/it]"
     ]
    },
    {
     "name": "stdout",
     "output_type": "stream",
     "text": [
      "[59m 50s (1400 35%) 1.5055]\n",
      "What do you call a collected in the dirl? Read of Mexica with a black, the super on his chiffer to use \n",
      "\n"
     ]
    },
    {
     "name": "stderr",
     "output_type": "stream",
     "text": [
      " 37%|████████████▋                     | 1499/4000 [1:03:59<1:42:16,  2.45s/it]"
     ]
    },
    {
     "name": "stdout",
     "output_type": "stream",
     "text": [
      "[64m 1s (1500 37%) 1.5030]\n",
      "Why did the garden lots of their washing you think? Have people do the joke at the one boyways that ev \n",
      "\n"
     ]
    },
    {
     "name": "stderr",
     "output_type": "stream",
     "text": [
      " 40%|█████████████▌                    | 1599/4000 [1:08:19<2:00:57,  3.02s/it]"
     ]
    },
    {
     "name": "stdout",
     "output_type": "stream",
     "text": [
      "[68m 22s (1600 40%) 1.4651]\n",
      "What does the difference between medically in you to the morning epies work? Clambs aren't waie to be  \n",
      "\n"
     ]
    },
    {
     "name": "stderr",
     "output_type": "stream",
     "text": [
      " 42%|██████████████▍                   | 1699/4000 [1:12:27<1:41:03,  2.64s/it]"
     ]
    },
    {
     "name": "stdout",
     "output_type": "stream",
     "text": [
      "[72m 30s (1700 42%) 1.4846]\n",
      "What's the other piloritary of mosquitopians and the movie supposed and change it? No that an house is \n",
      "\n"
     ]
    },
    {
     "name": "stderr",
     "output_type": "stream",
     "text": [
      " 45%|███████████████▎                  | 1799/4000 [1:16:36<1:30:37,  2.47s/it]"
     ]
    },
    {
     "name": "stdout",
     "output_type": "stream",
     "text": [
      "[76m 38s (1800 45%) 1.5002]\n",
      "What do you call a schall chicken say? It's like the father and school bar.\n",
      "\n",
      "Why did the Lite for skep \n",
      "\n"
     ]
    },
    {
     "name": "stderr",
     "output_type": "stream",
     "text": [
      " 47%|████████████████▏                 | 1899/4000 [1:20:38<1:15:56,  2.17s/it]"
     ]
    },
    {
     "name": "stdout",
     "output_type": "stream",
     "text": [
      "[80m 41s (1900 47%) 1.4920]\n",
      "What are Juan? Find up an employe\n",
      "\n",
      "What do you call a man? A: Because he didn't have a teach chicken t \n",
      "\n"
     ]
    },
    {
     "name": "stderr",
     "output_type": "stream",
     "text": [
      " 50%|████████████████▉                 | 1999/4000 [1:24:29<1:24:43,  2.54s/it]"
     ]
    },
    {
     "name": "stdout",
     "output_type": "stream",
     "text": [
      "[84m 31s (2000 50%) 1.4913]\n",
      "Why did the dog and a long girl should since done with my fire... Whe won't check.\n",
      "\n",
      "When it say why no \n",
      "\n"
     ]
    },
    {
     "name": "stderr",
     "output_type": "stream",
     "text": [
      " 52%|█████████████████▊                | 2099/4000 [1:28:27<1:13:09,  2.31s/it]"
     ]
    },
    {
     "name": "stdout",
     "output_type": "stream",
     "text": [
      "[88m 29s (2100 52%) 1.5041]\n",
      "What time check push than your hot than a big do store? Two bee.\n",
      "\n",
      "[girls writching my shit and a probl \n",
      "\n"
     ]
    },
    {
     "name": "stderr",
     "output_type": "stream",
     "text": [
      " 55%|██████████████████▋               | 2199/4000 [1:32:38<1:12:05,  2.40s/it]"
     ]
    },
    {
     "name": "stdout",
     "output_type": "stream",
     "text": [
      "[92m 40s (2200 55%) 1.4816]\n",
      "Why did the dogs does it taket tend to be a relate and a hazzouf and a side of sandwich so I kill me b \n",
      "\n"
     ]
    },
    {
     "name": "stderr",
     "output_type": "stream",
     "text": [
      " 57%|███████████████████▌              | 2299/4000 [1:36:39<1:07:20,  2.38s/it]"
     ]
    },
    {
     "name": "stdout",
     "output_type": "stream",
     "text": [
      "[96m 42s (2300 57%) 1.5051]\n",
      "Why do blondes the silic of end in the right hookey? Well they haven't believe about the date that I'm \n",
      "\n"
     ]
    },
    {
     "name": "stderr",
     "output_type": "stream",
     "text": [
      " 60%|████████████████████▍             | 2399/4000 [1:42:12<1:51:53,  4.19s/it]"
     ]
    },
    {
     "name": "stdout",
     "output_type": "stream",
     "text": [
      "[102m 16s (2400 60%) 1.4780]\n",
      "What do you call a now at my own excited long? They can really think poker one doesn't speed this floo \n",
      "\n"
     ]
    },
    {
     "name": "stderr",
     "output_type": "stream",
     "text": [
      " 62%|█████████████████████▏            | 2499/4000 [1:48:26<1:31:07,  3.64s/it]"
     ]
    },
    {
     "name": "stdout",
     "output_type": "stream",
     "text": [
      "[108m 30s (2500 62%) 1.4966]\n",
      "Which look you rednecks, but the most of the husband of crustimes. I bought now... Accorded on fine.\n",
      "\n",
      " \n",
      "\n"
     ]
    },
    {
     "name": "stderr",
     "output_type": "stream",
     "text": [
      " 65%|██████████████████████            | 2599/4000 [1:53:02<1:05:43,  2.82s/it]"
     ]
    },
    {
     "name": "stdout",
     "output_type": "stream",
     "text": [
      "[113m 5s (2600 65%) 1.5335]\n",
      "What does a talls are the same when she couldn't never talk? A bucket everyone. If I give you off.\n",
      "\n",
      "Di \n",
      "\n"
     ]
    },
    {
     "name": "stderr",
     "output_type": "stream",
     "text": [
      " 67%|████████████████████████▎           | 2699/4000 [1:57:26<50:47,  2.34s/it]"
     ]
    },
    {
     "name": "stdout",
     "output_type": "stream",
     "text": [
      "[117m 30s (2700 67%) 1.4867]\n",
      "What did the deven call your time? People the great walker... ? Pronounched a wearly with a good & Jus \n",
      "\n"
     ]
    },
    {
     "name": "stderr",
     "output_type": "stream",
     "text": [
      " 70%|█████████████████████████▏          | 2799/4000 [2:01:48<50:58,  2.55s/it]"
     ]
    },
    {
     "name": "stdout",
     "output_type": "stream",
     "text": [
      "[121m 51s (2800 70%) 1.5130]\n",
      "What do you call a poor and breathy that is found die her dog?? I get so much that is their trashing b \n",
      "\n"
     ]
    },
    {
     "name": "stderr",
     "output_type": "stream",
     "text": [
      " 72%|██████████████████████████          | 2899/4000 [2:06:16<49:55,  2.72s/it]"
     ]
    },
    {
     "name": "stdout",
     "output_type": "stream",
     "text": [
      "[126m 19s (2900 72%) 1.4871]\n",
      "When you you want an artists and like when 2 pants and the left that shit the basement still work cls. \n",
      "\n"
     ]
    },
    {
     "name": "stderr",
     "output_type": "stream",
     "text": [
      " 75%|██████████████████████████▉         | 2999/4000 [2:10:50<45:51,  2.75s/it]"
     ]
    },
    {
     "name": "stdout",
     "output_type": "stream",
     "text": [
      "[130m 52s (3000 75%) 1.4965]\n",
      "What's an awfud? Do you make at a tiny home?\n",
      "\n",
      "The Europe English and American last answers to common w \n",
      "\n"
     ]
    },
    {
     "name": "stderr",
     "output_type": "stream",
     "text": [
      " 77%|███████████████████████████▉        | 3099/4000 [2:15:06<40:20,  2.69s/it]"
     ]
    },
    {
     "name": "stdout",
     "output_type": "stream",
     "text": [
      "[135m 9s (3100 77%) 1.4841]\n",
      "When clownda Snoon to the Tracus Become and watch every bathroom.\n",
      "\n",
      "Why did one left as your big thing  \n",
      "\n"
     ]
    },
    {
     "name": "stderr",
     "output_type": "stream",
     "text": [
      " 80%|████████████████████████████▊       | 3199/4000 [2:19:39<37:44,  2.83s/it]"
     ]
    },
    {
     "name": "stdout",
     "output_type": "stream",
     "text": [
      "[139m 41s (3200 80%) 1.5186]\n",
      "What do you call a lops and a dimed first. I never never take His girlfriend and made \"nutting a bigge \n",
      "\n"
     ]
    },
    {
     "name": "stderr",
     "output_type": "stream",
     "text": [
      " 82%|█████████████████████████████▋      | 3299/4000 [2:24:08<32:05,  2.75s/it]"
     ]
    },
    {
     "name": "stdout",
     "output_type": "stream",
     "text": [
      "[144m 10s (3300 82%) 1.4791]\n",
      "What do you call a cool the other one considered a sure to put it all one players? Well does it take t \n",
      "\n"
     ]
    },
    {
     "name": "stderr",
     "output_type": "stream",
     "text": [
      " 85%|██████████████████████████████▌     | 3399/4000 [2:28:18<24:56,  2.49s/it]"
     ]
    },
    {
     "name": "stdout",
     "output_type": "stream",
     "text": [
      "[148m 21s (3400 85%) 1.5015]\n",
      "What's the best? A pillenged Second at love of Jeslear.\n",
      "\n",
      "What time I said she chased are from the job  \n",
      "\n"
     ]
    },
    {
     "name": "stderr",
     "output_type": "stream",
     "text": [
      " 87%|███████████████████████████████▍    | 3499/4000 [2:32:48<24:53,  2.98s/it]"
     ]
    },
    {
     "name": "stdout",
     "output_type": "stream",
     "text": [
      "[152m 51s (3500 87%) 1.4833]\n",
      "What do you call a plane while a drive? They're like you.\n",
      "\n",
      "To make any was in the new concerted and as \n",
      "\n"
     ]
    },
    {
     "name": "stderr",
     "output_type": "stream",
     "text": [
      " 90%|████████████████████████████████▍   | 3599/4000 [2:37:52<17:11,  2.57s/it]"
     ]
    },
    {
     "name": "stdout",
     "output_type": "stream",
     "text": [
      "[157m 55s (3600 90%) 1.4852]\n",
      "What do you call a fan? He cried in their few dresssstermail is to be about let her family with the be \n",
      "\n"
     ]
    },
    {
     "name": "stderr",
     "output_type": "stream",
     "text": [
      " 92%|█████████████████████████████████▎  | 3699/4000 [2:42:26<14:08,  2.82s/it]"
     ]
    },
    {
     "name": "stdout",
     "output_type": "stream",
     "text": [
      "[162m 29s (3700 92%) 1.5243]\n",
      "What's the difference between a bear and a canadian? The stood, asks what would hear a tried to say th \n",
      "\n"
     ]
    },
    {
     "name": "stderr",
     "output_type": "stream",
     "text": [
      " 95%|██████████████████████████████████▏ | 3799/4000 [2:46:48<07:43,  2.31s/it]"
     ]
    },
    {
     "name": "stdout",
     "output_type": "stream",
     "text": [
      "[166m 51s (3800 95%) 1.5171]\n",
      "What is the most of joke? Because there's covered those suffering for the inviser.\n",
      "\n",
      "If you see when th \n",
      "\n"
     ]
    },
    {
     "name": "stderr",
     "output_type": "stream",
     "text": [
      " 97%|███████████████████████████████████ | 3899/4000 [2:51:50<04:09,  2.47s/it]"
     ]
    },
    {
     "name": "stdout",
     "output_type": "stream",
     "text": [
      "[171m 52s (3900 97%) 1.4817]\n",
      "What did the new people who to be between the Star? To make the wheel have so steaks it between the we \n",
      "\n"
     ]
    },
    {
     "name": "stderr",
     "output_type": "stream",
     "text": [
      "100%|███████████████████████████████████▉| 3999/4000 [2:55:59<00:02,  2.58s/it]"
     ]
    },
    {
     "name": "stdout",
     "output_type": "stream",
     "text": [
      "[176m 2s (4000 100%) 1.5707]\n",
      "What kind of beer have been exterion? I could call only difference between a traineose that tell the b \n",
      "\n"
     ]
    },
    {
     "name": "stderr",
     "output_type": "stream",
     "text": [
      "100%|████████████████████████████████████| 4000/4000 [2:56:02<00:00,  2.58s/it]\n"
     ]
    },
    {
     "name": "stdout",
     "output_type": "stream",
     "text": [
      "Saving...\n",
      "Saved as train_full_gru_4.pt\n"
     ]
    }
   ],
   "source": [
    "%run train.py train_full_gru_4.txt --hidden_size 128 --batch_size 100 --n_epochs 4000"
   ]
  },
  {
   "cell_type": "code",
   "execution_count": 23,
   "metadata": {
    "collapsed": false
   },
   "outputs": [
    {
     "name": "stdout",
     "output_type": "stream",
     "text": [
      "A FOR ME OUT WHER PISS ME ME ONE LEKEEEEEEES IN WHEE TOLLEEEEEEEEEEEEEET THE SO I was a book at house and had a chicken and a hard that would just see the least that asks the same the poose of the face line the car of a counter movies to the other good when the second one has a country.\n",
      "\n",
      "What do you call a borrow who looks for a beer and the emalest better and a school as a lightbulb? A: The punch and question and the most that get out of the same the same compute with it when I was a party.\n",
      "\n",
      "What do you call a friend who got that the lentil to the last really so day? They can't can like the face.\n",
      "\n",
      "What do you call a control and a sex and a perfect the friends are me and a short talking the contact say? When I was done in your pet to the face.\n",
      "\n",
      "What do you call a compute at a car? A girl for the last to call a second the complete of the pencil.\n",
      "\n",
      "What do you call a guy who are wear the internet? Because he can say the same one thing at the face.\n",
      "\n",
      "What do you call a part of the star? Because they want to get a light bulb? None and a chicken on the world with a shot are should be a concert of the subway.\n",
      "\n",
      "What do you call a farmer and a little of the book at the world? It was a glass, how many sees a poop\n",
      "\n",
      "Why did the comput that man say to the last thing the starts and a part of a car on the last thing? Because the could come out of a party that was only in the street.\n",
      "\n",
      "What do you call a problem? It was a them by a boy was a friends are from the funny.\n",
      "\n",
      "What do you call a compan? A one to put a cow the street and some things she was the street place the torn the world.\n",
      "\n",
      "What do you call a light bulb? Because they are the good that made the time.\n",
      "\n",
      "What did the man and a car found the favorite contacting a bellic in the difference between a girl and a second of the problem? It was the street constipation and I don't have a car and he was the shower for the road.\n",
      "\n",
      "What do you call a candideward and a sent in the body? A blowjob to the party.\n",
      "\n",
      "What do you call a guy didn't the letter? A cat and says, \"I was so I'm not strong for the condom should watching the thing and he's in a beer at the room.\n",
      "\n",
      "What do you call a guy who say to the party? It was a stuck out of a book about the time.\n",
      "\n",
      "What do you call a pet baby? A teacher.\n",
      "\n",
      "What do you call a finger like the difference between a guy and a friend and a compute? I'm the baby with a store who had a vills in bellowing the door in a little back the second that was only dead of any this morning and made the dog and the same everyone the leggy pussy that she says \"I will get a man at the other should start a beacher than back in the lawyers and the second pick their phone.\" The call one house and says to the back in the moments of the street because they can talk to the subway and that who's going?\n",
      "\n",
      "I bet the word I was a control police of the light bulb and the really say the forget and the prostitutes for a buttely but they want to talk the other there was the bathroom in the best dough.\n",
      "\n",
      "What do you cal\n"
     ]
    }
   ],
   "source": [
    "%run generate.py train_full_gru_4.pt -l 3000 -t 0.4"
   ]
  },
  {
   "cell_type": "code",
   "execution_count": 26,
   "metadata": {
    "collapsed": false
   },
   "outputs": [
    {
     "name": "stdout",
     "output_type": "stream",
     "text": [
      "A brosten that emplosive and people, there to man in the small but I was forget ariting a tarkers by the trentlaud.\n",
      "\n",
      "You'll is that times to feeve me on a before in a pile.\n",
      "\n",
      "What do you call a Polish Bachaning the Money Sappenola to male problem? People instool.\n",
      "\n",
      "What do you call it and a dad? The saved ibrack.\n",
      "\n",
      "*hour says\" \"God's froglot got anything about hot that this grandposer.\" \"I don't accept a mark.\n",
      "\n",
      "Just give your funed, for a spend it friend time.\n",
      "\n",
      "My kids have the man walking on the progricl common in the fants to lgeve to at the best prokimus.. think one ginger Stavy mind.\n",
      "\n",
      "When Too much liner and I can never done two kept working of a rape in my sleeping and a book on the good letter boat party.\n",
      "\n",
      "How many credits? Michael partic.\n",
      "\n",
      "What is a way. It was loves.\n",
      "\n",
      "What do you call a you eat up the Anable and fell used to the same telling time? Unlease\n",
      "\n",
      "It was found 10 months in a store of any missing so I'm beard out and we are why confuring in the chococus were having a begin.\n",
      "\n",
      "Mosicast for the nood days to true a I was best to color hear on The bathroom of a roofter off is a place.\n",
      "\n",
      "Me: I feel ever... I think she has a girl\n",
      "\n",
      "How do you know hot? \"We got doing to call a placemet breathe have *runs to homb that it's \"Cordles of the chick *eval of Second*\n",
      "\n",
      "I'm trying compliting. So the mushes a beer to your dward.\n",
      "\n",
      "What do you call a man at a big love children colors? It was the ass is call secury.\n",
      "\n",
      "Glay... It don't, breakman were 90% of rommelalous stand in 192 in my dauchant last.\n",
      "\n",
      "What do you call a clow pench chocome for them? You can't meat being a candy of the man with your quit to the morning\n",
      "\n",
      "What do you call a Michael Mini-armeter lods? Years is how.\n",
      "\n",
      "What's a profizer of a section to clownned that worst died kised that my little Turn the leta neards? Because the hamp compute!\n",
      "\n",
      "I thought my disable} *what they were prehing that I started how me: \"idite only child and symper Steps happenal that writing a tech of the toilet. Africans your mouth time he always get before if i has a box into the face.\n",
      "\n",
      "I'm spell running every the greast that they say there's me.\n",
      "\n",
      "My nights?\" A Puts a lightbulb. I was a stelways time. We don't have sitting.\n",
      "\n",
      "What do the mother hope that a saw a tap way out one tied? The artylfurns kept a futuulation.\n",
      "\n",
      "What do you call a tread? MOTATHDE WOURE (The ways I have a chick, When someone I sauce\" why it's me in the worlward's last. It's between Cavinality. The mid my disables: Yes Does it ask through time and so people who? ME: I was for how he's seous.\n",
      "\n",
      "What do you car blame on the most tall poss entered that a news\n",
      "\n",
      "I just like me that catches told pene will have a claiming at bill and happy up consider in a little volts and blowns up and so he was the role with of the starts are buy inet dies.\n",
      "\n",
      "If I start better for buying anywall into Jesus knocked\n",
      "\n",
      "What the Eddogs rol every? I is father not!\n",
      "\n",
      "What do you call a bad lubor? The Doctor: Fitman waitic later: He replies \"Dad can't get taste I was enough took her and orders once who peection.\" I lack me my doors are down\n",
      "\n",
      "My name went into a spaggess than a nouked the movie not move to hire a stort?\n",
      "\n",
      "Who starts are the rive. That's the morning and it has has to say after webcoling the midles.\n",
      "\n",
      "My name four Carjames that they know that can suck a male secreate run as then the version than home that I die, but you're a bar who...  And that a kind of every sex at the cheap it would thought a cap\n",
      "\n",
      "The clothes my Irish ail a thermo toast for my desterded it lost the EESTERSNOK CLLESE: We're kids, so kidds your boobars.\n",
      "\n",
      "My seconded sex cool that they don't signed to say Sorry to flint off.\n",
      "\n",
      "What do you call a paper and a tampon? They can't like to make thought it's live\n",
      "\n",
      "How many uncomself jump? \"The hippoly are respee. *woods* *wells can \"I'm going. I'm the other apple started girl, but I had a secepic!\"\n",
      "\n",
      "What do you call a chizs and the pip of antipa? A guy, jokes I heard of the bus.\n",
      "\n",
      "When imaged this wind art really slaid revome to can see a good based there are you tell me in the Unit short about forget?\n",
      "\n",
      "What do you call our teeth of being an obo? It asked me. I tried to tall.\n",
      "\n",
      "Don't the seem dead father to his mommort tinity and a car was getting today what is Hebled did one job with? Ch facebook DriffY\n",
      "\n",
      "Someocaus does that he looked. The school was for your bread. I used to be on the world bad like can help the subway and he, they have to been rather and theregant who don't know it's a best of the movie!\n",
      "\n",
      "I was jud all of the... I dad of Recause they or Called Tweet in changings, it dont be worry someone up.\n",
      "\n",
      "What do the good studentard walk into a grammate? Because they'll terrifiid good par-years.\n",
      "\n",
      "If I don't know, .......this house for a bowl.\n",
      "\n",
      "Why don't like you call a bush? Egstic as for the invisions.\n",
      "\n",
      "I have most time of a difference between Pinnotists of a Proporal? Best of test getting, Forces are the best of the Pops\n",
      "\n",
      "Everyone says which divided to try to ever pager that was because become me for cheating monticed of my summing it'reslant.\n",
      "\n",
      "There's the leave with dead me a math is the fast idenally only for a snack a Marge arms are even said \"idion down our friend, \"I don't mate as a deve having from this.\"\n",
      "\n",
      "What do year down the one joke? A road of news, a strunt picture.\n",
      "\n",
      "What happening a fired? A fire!\n",
      "\n",
      "What do you call on the lender and street four life? Juan Evential shot as that wasn't.\n",
      "\n",
      "What is the difference between huit? Helo empty camp.\n",
      "\n",
      "What's the difference between a drunk to call a son leave it? They say on seceen in Frews.\n",
      "\n",
      "Did you hear about the robdes to changing a girl? A front was ear\n",
      "\n",
      "What do you cale hit when he makes the bartending to go are which someone off the lawyer sees man and a guy ? Because I good week her .\n",
      "\n",
      "My person and a girl should finate you go for the pupping sex and stand or garference bentination? A long one day, the bests in bast that all joke in the other toxic.\n",
      "\n",
      "What do you call a buy words? The face you told me to be sex once as her hott.\n",
      "\n",
      "I wondernely left The fart and stops long a coaching up that allast say, \"EwM the only comes of a man's at the blondes. It was a paper **stops* *place says,\" and he only had to have a tradic of your house. Well, and a great but it steels home.\n",
      "\n",
      "Kenoboyes were a lirlity of my few race the spage late pullicent. Part of the samon everything?\"\n",
      "\n",
      "I have been saw \"WHA CHE SA WILFING And *says me.\" \"Fylobal are that if you want to have to like me what happens that the wearns with a lot of miled.\n",
      "\n",
      "I'm a scene, I did the world for study children fall up a good at a time it wonders the teethor carper matter... Technolly think I went to dead people so from time he had his doing.\n",
      "\n",
      "What does all Chinese and Called Little? Me: Don't you stop think I was a like tampon\n",
      "\n",
      "I know how much the eight good Drinds Constart and bently helped not beat E dimples... \"Does it take to see a screed?\n",
      "\n",
      "What do you hear about the funny likes in light tractor to get a new house... The colled to the day.\n",
      "\n",
      "Why does ex Michael years? I really have to be line of the brother.\n",
      "\n",
      "What's the difference between cheatuna that legs of my We/ring? They bottle that long all the steatist.\n",
      "\n",
      "I recks my bag went Chris house Yo momma Jack your parable. Cold hands are going to convict themselves to explain, heard the dough\n",
      "\n",
      "I'm tomental to talk about white button and made two meal that they don't meant people to stop water to call a 100 year cowbout of you and always done only offeral Englass.\n",
      "\n",
      "At me are you're forever he's a son?\n",
      "\n",
      "*people last why \"about a free out of them than secuard!\"\n",
      "\n",
      "Cumb needs moon soilet in her or like butter you shot entirement teacher any door when I found it wall, the time some people could team toothing to have get of the Spants + christ What's the recenty seah apoled the worried and get a conctolled the world? They starting one done in her chases who didn't know you don't wait with the best.\n",
      "\n",
      "Why can't the Bileper and a pant is fat such parties are pick? We're good the face* ME: Funs aren people for foot.\n",
      "\n",
      "What do you cash a stard at his thought? One drunk home is hope them not talk out of minder star.\n",
      "\n",
      "When you ask me in my Twitternet... the space is for his mind and the chocolate lunch that is like he was anyth on. Africans doesn't sometimes it's cooled on midget to yougge.\n",
      "\n",
      "What do I say to the deecumen and a seen the psychiest from they left they have a lotton a Korea\n",
      "\n",
      "What did Jere? We see shame.\n",
      "\n",
      "I have a party, the minute more night* uppafetited up to a dention. I started all the bears.\n",
      "\n",
      "If they be brings out hooking at you mind 3lstom done.\n",
      "\n",
      "What do you called a light asian let for an elephant that was a best thinking of the low of flocks? A man and he fell at me mental, but then still helpend, not pretty wwith the pizza egged off Leaves Ofle Me: *recordions agives just spinned the stations.\"\n",
      "\n",
      "What do you call a bong says that an asshole drowdges? He have their late. They stop time you'll really get take to dure paste.\n",
      "\n",
      "How many or not surpra? Girate owl of a halt by the two stand asshole them up water.\n",
      "\n",
      "What kind of the house go to the name? Because they have to change with a thing? I'm all the rewins I told me to descend as. I said \"Honk horse 'examist *leds with\n",
      "\n",
      "Is He watching women at the morning men in a tongury a resery funny.\n",
      "\n",
      "My cross the difference between a first chick? Because I need to me home ever good peans.\n",
      "\n",
      "What do you call bears people are kid bad communist? Because the eather surms-maric.\n",
      "\n",
      "I like a dad light about my disabe to be picture who see me and the idea have a could be always going to talk to you ever have the name of the onation Why do a speed prescripter\n",
      "\n",
      "What's the most on computelgentic and are a new dead? They don't knew how what you land moviater.\n",
      "\n",
      "My bring the left on white... I asss your sumpow in the Peanney of the avorgexual candided with a there.\n",
      "\n",
      "Surprisionally ridel: None, why did the stop stole... I know who? Be corns.\n",
      "\n",
      "I have in the garrary... I grove you with the flind cleate's musician and a comment floss by \n"
     ]
    }
   ],
   "source": [
    "%run generate.py train_full_gru_4.pt -l 10000"
   ]
  },
  {
   "cell_type": "code",
   "execution_count": 27,
   "metadata": {
    "collapsed": false
   },
   "outputs": [
    {
     "name": "stdout",
     "output_type": "stream",
     "text": [
      "Training for 3000 epochs...\n"
     ]
    },
    {
     "name": "stderr",
     "output_type": "stream",
     "text": [
      "  3%|█▎                                    | 99/3000 [05:07<2:21:48,  2.93s/it]"
     ]
    },
    {
     "name": "stdout",
     "output_type": "stream",
     "text": [
      "[5m 10s (100 3%) 2.0740]\n",
      "Whey mented won we weesty pectwejenter the paine you can't.\n",
      "\n",
      "Why do and Hhabps appening on they ding h \n",
      "\n"
     ]
    },
    {
     "name": "stderr",
     "output_type": "stream",
     "text": [
      "  7%|██▍                                  | 199/3000 [09:57<2:11:05,  2.81s/it]"
     ]
    },
    {
     "name": "stdout",
     "output_type": "stream",
     "text": [
      "[10m 0s (200 6%) 1.8737]\n",
      "Why do a done prothing that work. I larine dog hear a scame everiends shis about a good have in a word \n",
      "\n"
     ]
    },
    {
     "name": "stderr",
     "output_type": "stream",
     "text": [
      " 10%|███▋                                 | 299/3000 [16:19<3:15:49,  4.35s/it]"
     ]
    },
    {
     "name": "stdout",
     "output_type": "stream",
     "text": [
      "[16m 24s (300 10%) 1.7721]\n",
      "Why didn't guys will is cline Every used of bubt\n",
      "\n",
      "How boes, ^^^at my green: Mole she got out to dresse \n",
      "\n"
     ]
    },
    {
     "name": "stderr",
     "output_type": "stream",
     "text": [
      " 13%|████▉                                | 399/3000 [21:42<1:56:41,  2.69s/it]"
     ]
    },
    {
     "name": "stdout",
     "output_type": "stream",
     "text": [
      "[21m 45s (400 13%) 1.7128]\n",
      "What's the people rooup have that the fire, and a marring on do a blen in make they bell now.\n",
      "\n",
      "Why did \n",
      "\n"
     ]
    },
    {
     "name": "stderr",
     "output_type": "stream",
     "text": [
      " 17%|██████▏                              | 499/3000 [26:12<2:04:09,  2.98s/it]"
     ]
    },
    {
     "name": "stdout",
     "output_type": "stream",
     "text": [
      "[26m 14s (500 16%) 1.6718]\n",
      "Why don't snearn? a Jock, but \"helps the difference eye to potive asked that dog me it hate out. You n \n",
      "\n"
     ]
    },
    {
     "name": "stderr",
     "output_type": "stream",
     "text": [
      " 20%|███████▍                             | 599/3000 [30:57<1:44:53,  2.62s/it]"
     ]
    },
    {
     "name": "stdout",
     "output_type": "stream",
     "text": [
      "[30m 59s (600 20%) 1.6363]\n",
      "What do you heard butt trying my count. I don't like the there's a black walk a bartender bad not my c \n",
      "\n"
     ]
    },
    {
     "name": "stderr",
     "output_type": "stream",
     "text": [
      " 23%|████████▌                            | 699/3000 [35:19<1:40:33,  2.62s/it]"
     ]
    },
    {
     "name": "stdout",
     "output_type": "stream",
     "text": [
      "[35m 22s (700 23%) 1.6265]\n",
      "Why difference from president when I'm a specely\n",
      "\n",
      "Charity. *Where did it be sure your family you dog w \n",
      "\n"
     ]
    },
    {
     "name": "stderr",
     "output_type": "stream",
     "text": [
      " 27%|█████████▊                           | 799/3000 [39:43<1:35:33,  2.60s/it]"
     ]
    },
    {
     "name": "stdout",
     "output_type": "stream",
     "text": [
      "[39m 46s (800 26%) 1.5865]\n",
      "What do you call a morning his half that Lady get in recentions. So it nails legs was sorry starting a \n",
      "\n"
     ]
    },
    {
     "name": "stderr",
     "output_type": "stream",
     "text": [
      " 30%|███████████                          | 899/3000 [44:06<1:30:37,  2.59s/it]"
     ]
    },
    {
     "name": "stdout",
     "output_type": "stream",
     "text": [
      "[44m 9s (900 30%) 1.5803]\n",
      "What do you call a great give the complate Batmst and a dandement? \"I can't till you redy window. The  \n",
      "\n"
     ]
    },
    {
     "name": "stderr",
     "output_type": "stream",
     "text": [
      " 33%|████████████▎                        | 999/3000 [48:28<1:29:49,  2.69s/it]"
     ]
    },
    {
     "name": "stdout",
     "output_type": "stream",
     "text": [
      "[48m 31s (1000 33%) 1.5664]\n",
      "What do you call a flight that happy.\n",
      "\n",
      "I see the back out of bar will see it for not favorite like a d \n",
      "\n"
     ]
    },
    {
     "name": "stderr",
     "output_type": "stream",
     "text": [
      " 37%|█████████████▏                      | 1099/3000 [52:52<1:24:47,  2.68s/it]"
     ]
    },
    {
     "name": "stdout",
     "output_type": "stream",
     "text": [
      "[52m 55s (1100 36%) 1.5795]\n",
      "Wha Khore I was going to happen. This everyone was a man dish right that is at a viacious. I retil Ame \n",
      "\n"
     ]
    },
    {
     "name": "stderr",
     "output_type": "stream",
     "text": [
      " 40%|██████████████▍                     | 1199/3000 [57:15<1:18:49,  2.63s/it]"
     ]
    },
    {
     "name": "stdout",
     "output_type": "stream",
     "text": [
      "[57m 18s (1200 40%) 1.5423]\n",
      "What do you call a dies or a secuintence. But when you can a pigs? Not a man on the job. Driving my gr \n",
      "\n"
     ]
    },
    {
     "name": "stderr",
     "output_type": "stream",
     "text": [
      " 43%|██████████████▋                   | 1299/3000 [1:01:38<1:14:07,  2.61s/it]"
     ]
    },
    {
     "name": "stdout",
     "output_type": "stream",
     "text": [
      "[61m 41s (1300 43%) 1.5471]\n",
      "Why are\n",
      "\n",
      "Same oper when it be a burrs sink that for like my case? The pickles to stitses this black on \n",
      "\n"
     ]
    },
    {
     "name": "stderr",
     "output_type": "stream",
     "text": [
      " 47%|███████████████▊                  | 1399/3000 [1:06:01<1:10:06,  2.63s/it]"
     ]
    },
    {
     "name": "stdout",
     "output_type": "stream",
     "text": [
      "[66m 3s (1400 46%) 1.5241]\n",
      "What do you call a banals and leave To any him money, that she would thing a guy in to made a door an  \n",
      "\n"
     ]
    },
    {
     "name": "stderr",
     "output_type": "stream",
     "text": [
      " 50%|████████████████▉                 | 1499/3000 [1:10:25<1:06:28,  2.66s/it]"
     ]
    },
    {
     "name": "stdout",
     "output_type": "stream",
     "text": [
      "[70m 27s (1500 50%) 1.5305]\n",
      "Why does a bane from a fat ... A cat cave to get water points of Christmas yesterday say white about t \n",
      "\n"
     ]
    },
    {
     "name": "stderr",
     "output_type": "stream",
     "text": [
      " 53%|██████████████████                | 1599/3000 [1:14:48<1:01:37,  2.64s/it]"
     ]
    },
    {
     "name": "stdout",
     "output_type": "stream",
     "text": [
      "[74m 51s (1600 53%) 1.5251]\n",
      "What's her\" \"Santa droney he's a reneworritistice... The bar floor stomiting and a man alcohol board t \n",
      "\n"
     ]
    },
    {
     "name": "stderr",
     "output_type": "stream",
     "text": [
      " 57%|████████████████████▍               | 1699/3000 [1:19:16<58:18,  2.69s/it]"
     ]
    },
    {
     "name": "stdout",
     "output_type": "stream",
     "text": [
      "[79m 18s (1700 56%) 1.5068]\n",
      "What do well like won't mote scientistate than can the toilet saw a child Bood?\n",
      "\n",
      "It was an oven of her \n",
      "\n"
     ]
    },
    {
     "name": "stderr",
     "output_type": "stream",
     "text": [
      " 60%|█████████████████████▌              | 1799/3000 [1:23:54<57:17,  2.86s/it]"
     ]
    },
    {
     "name": "stdout",
     "output_type": "stream",
     "text": [
      "[83m 57s (1800 60%) 1.4930]\n",
      "What's better so carrons are downed chocolate those which my night * inches the milk to sistes in them \n",
      "\n"
     ]
    },
    {
     "name": "stderr",
     "output_type": "stream",
     "text": [
      " 63%|██████████████████████▊             | 1899/3000 [1:28:18<47:55,  2.61s/it]"
     ]
    },
    {
     "name": "stdout",
     "output_type": "stream",
     "text": [
      "[88m 21s (1900 63%) 1.5197]\n",
      "What's the pretty homeless] \"Actor say by intend!\n",
      "\n",
      "What's ugly are gay who keep the zeronysterdated by \n",
      "\n"
     ]
    },
    {
     "name": "stderr",
     "output_type": "stream",
     "text": [
      " 67%|███████████████████████▉            | 1999/3000 [1:32:39<43:03,  2.58s/it]"
     ]
    },
    {
     "name": "stdout",
     "output_type": "stream",
     "text": [
      "[92m 42s (2000 66%) 1.5153]\n",
      "What's Yeah girls and a bar.\n",
      "\n",
      "What do you call a bathroarritizer is the gets deleling like day is it c \n",
      "\n"
     ]
    },
    {
     "name": "stderr",
     "output_type": "stream",
     "text": [
      " 70%|█████████████████████████▏          | 2099/3000 [1:37:01<39:21,  2.62s/it]"
     ]
    },
    {
     "name": "stdout",
     "output_type": "stream",
     "text": [
      "[97m 4s (2100 70%) 1.4797]\n",
      "What did the boy* I Helles? Death was a realized the problems on the where way to the gym a friend and \n",
      "\n"
     ]
    },
    {
     "name": "stderr",
     "output_type": "stream",
     "text": [
      " 73%|██████████████████████████▍         | 2199/3000 [1:41:24<35:06,  2.63s/it]"
     ]
    },
    {
     "name": "stdout",
     "output_type": "stream",
     "text": [
      "[101m 26s (2200 73%) 1.5065]\n",
      "Where iminate that I would bird bolted a jokes today, I remox, thankenly? He forently act lawyer, the  \n",
      "\n"
     ]
    },
    {
     "name": "stderr",
     "output_type": "stream",
     "text": [
      " 77%|███████████████████████████▌        | 2299/3000 [1:45:45<30:42,  2.63s/it]"
     ]
    },
    {
     "name": "stdout",
     "output_type": "stream",
     "text": [
      "[105m 48s (2300 76%) 1.4778]\n",
      "What do you call a hop say that's time seasies to many ministant.\n",
      "\n",
      "I work in dead under a polish who w \n",
      "\n"
     ]
    },
    {
     "name": "stderr",
     "output_type": "stream",
     "text": [
      " 80%|████████████████████████████▊       | 2399/3000 [1:50:07<26:27,  2.64s/it]"
     ]
    },
    {
     "name": "stdout",
     "output_type": "stream",
     "text": [
      "[110m 9s (2400 80%) 1.5140]\n",
      "What did the hell? It was a slow down the last everyone said, \"Amino, when that make a need an olds? W \n",
      "\n"
     ]
    },
    {
     "name": "stderr",
     "output_type": "stream",
     "text": [
      " 83%|█████████████████████████████▉      | 2499/3000 [1:54:29<21:31,  2.58s/it]"
     ]
    },
    {
     "name": "stdout",
     "output_type": "stream",
     "text": [
      "[114m 32s (2500 83%) 1.4995]\n",
      "Why do you never see when they people takes anything dark wone home to conting one.\n",
      "\n",
      "I just spend all  \n",
      "\n"
     ]
    },
    {
     "name": "stderr",
     "output_type": "stream",
     "text": [
      " 87%|███████████████████████████████▏    | 2599/3000 [1:58:52<17:32,  2.62s/it]"
     ]
    },
    {
     "name": "stdout",
     "output_type": "stream",
     "text": [
      "[118m 55s (2600 86%) 1.5045]\n",
      "What are the toilet print will suck a good grandma what fuckincanes but that's wemperdies and fuck any \n",
      "\n"
     ]
    },
    {
     "name": "stderr",
     "output_type": "stream",
     "text": [
      " 90%|████████████████████████████████▍   | 2699/3000 [2:03:13<13:01,  2.60s/it]"
     ]
    },
    {
     "name": "stdout",
     "output_type": "stream",
     "text": [
      "[123m 16s (2700 90%) 1.5102]\n",
      "Why didn't kneptile just because he got me that he asked me to do them for them?\n",
      "\n",
      "I made it but I guy  \n",
      "\n"
     ]
    },
    {
     "name": "stderr",
     "output_type": "stream",
     "text": [
      " 93%|█████████████████████████████████▌  | 2799/3000 [2:07:36<08:40,  2.59s/it]"
     ]
    },
    {
     "name": "stdout",
     "output_type": "stream",
     "text": [
      "[127m 38s (2800 93%) 1.4947]\n",
      "What do you call a Masome for jesus introdue the baby pandling and has to be a mind smars and the no h \n",
      "\n"
     ]
    },
    {
     "name": "stderr",
     "output_type": "stream",
     "text": [
      " 97%|██████████████████████████████████▊ | 2899/3000 [2:11:58<04:26,  2.64s/it]"
     ]
    },
    {
     "name": "stdout",
     "output_type": "stream",
     "text": [
      "[132m 0s (2900 96%) 1.4808]\n",
      "When I said it's not flone for has stuck? I see the bent to Rics\n",
      "\n",
      "Did you hear about the plate in a wr \n",
      "\n"
     ]
    },
    {
     "name": "stderr",
     "output_type": "stream",
     "text": [
      "100%|███████████████████████████████████▉| 2999/3000 [2:16:19<00:02,  2.61s/it]"
     ]
    },
    {
     "name": "stdout",
     "output_type": "stream",
     "text": [
      "[136m 21s (3000 100%) 1.4797]\n",
      "What does so two why then reach the Sitting closer? MrMICIII!!\n",
      "\n",
      "What do you call a Cheek bowling Mom:  \n",
      "\n"
     ]
    },
    {
     "name": "stderr",
     "output_type": "stream",
     "text": [
      "100%|████████████████████████████████████| 3000/3000 [2:16:21<00:00,  2.63s/it]\n"
     ]
    },
    {
     "name": "stdout",
     "output_type": "stream",
     "text": [
      "Saving...\n",
      "Saved as train_full_2.pt\n"
     ]
    }
   ],
   "source": [
    "%run train.py train_full_2.txt --hidden_size 128 --model LSTM --n_epochs 3000"
   ]
  },
  {
   "cell_type": "code",
   "execution_count": 1,
   "metadata": {
    "collapsed": false
   },
   "outputs": [
    {
     "name": "stdout",
     "output_type": "stream",
     "text": [
      "Are Rrape of my girlfriend's money come in a practice.\n",
      "\n",
      "Yo many csexious parents were poor\"\n",
      "\n",
      "Sex Englls away in helping cats in Badus player.\n",
      "\n",
      "I would be hell incover.\n",
      "\n",
      "I would talk to another said \"Stones you will mean interesting ladies? Fuck a black man say to the other.\n",
      "\n",
      "I'm only saving a bit towday Dave, it's penis to see the problem. What does Santa Hotbant: \"Farents Kate American walk key out on the cow\" \"It's an at the bar... But the Cock in Almosted Saran-grass.\" The Perfect is not a swiner? They were going to watching a car Ark pornor pretend.\" Make water that so some said that it walk into a bar... So I love to be a day take something to use a head tong start harm. She was sir] A chicken vican say when they can't get them. The other tried on color? Because they can't a family... I would it to him.. .............come to be with fast up outside of freezed in Englagert all area. It's wrong sit on their porn or mouth. Are you swear down let's starting me in the envirit is song a bad on its birthday bit good I would make to avoid them a country pane\n",
      "\n",
      "Why did the Pental get to me carryyel My fire and with my bread in the meats are at bear for this.\n",
      "\n",
      "I got in a street] *\n",
      "\n",
      "Banana are weekend ladder and a hero already about two moment would be the life? Feking is too trunks kill your house in the coffin between a lot for poise won't be made you or texting free to depends into the Bight? A light to the same black for the like same by a dick men asks the start stops on Jesus tiger me is the Mexican interests in the need to away behind my phone Anals with because one the thing, I got down slave so lister for my chicken...\n",
      "\n",
      "What does a pigs in a company, \"Waiter\n",
      "\n",
      "* Those won't get animals? Just should feel really gones.\n",
      "\n",
      "I'm not my head skystanitals walking to survered Wife role! The excotty! But I only keep her bob, \"You Kice, Cunnie but a prostitution and all norh after concentrates to build porking to the sleep the Brities are the overs today? Me: ME: Knock Why is the recning to the bath. So it's done.\n",
      "\n",
      "I would be but a boyfriend\" and what wours the joke So... What is the man on the woman said \"I'm \"Little I thought that you call a shit rolling could start what way to got assatic.\n",
      "\n",
      "What did the chicken garger is so what I don't put theed to laughtender?\n",
      "\n",
      "I'm hit I probleps\" and like my comfortator? Great people who doesn't really interrick man who like it when I want to have a Pending Waltern name that had to be a bad invented grilling your own one in the weddin at normal rape in 10 peans for a shoes. And makes a gorrowers and the other means while day small the teeth? MariaN? Tell the best Donald moth a snow 80rric people.\n",
      "\n",
      "There's done! It's a vamphonal joke. Elently Baby Clea to love that PELF'N: May.\n",
      "\n",
      "I saw an eye and more in some pressens and a man's got the park back... What's. That's it like my gulls factory and a kid, is the dark-fortoo? Because he says \"I let something in 5 years soes around the sexual in the annumethexic just in your sees to here\"\n",
      "\n",
      "I always get a contanitage.\n",
      "\n",
      "I'm going to not very ticket to the chicken and gets at the seat and three banana?\n",
      "\n",
      "\"Gotta Flag Olympics are parents.\n",
      "\n",
      "What's the difference between a parade slavebent\" \"that's work of it, but I was only comes into a priest Its can be like he had to hold one. Me: From a men description\n",
      "\n",
      "I don't make a fat when yourself or love is in common? A leaffeys... ...but I'm going his favourite who in the meat.\n",
      "\n",
      "What is so a tinally won't worry, so what does a guy why the car!\n",
      "\n",
      "It's punchuate starting a busi need to person why are you and consider them with in the children, what is a banker on the name by anyone ago it was the gory got so many penis peacen and smells like there invitress for for decision in my chicken are looks his feely again.\n",
      "\n",
      "What is the ghothen.\n",
      "\n",
      "What does a man walks into a bar... Like a cat number walk into a bar Stop.\n",
      "\n",
      "What did the bartap In America........ Hear Presidental Shinki Marty when I can say this.\n",
      "\n",
      "What is a life in the like a black of once in the glond officer? All victimstar chicken? It's could parents over that. I said \"Can the cubber. As the cart-window with me.\n",
      "\n",
      "Nothing, I have been here? All I have the read to the bartender say one with this profession before bunny actual at not carencer in the doctor would hank after a sceoking me of place there before I don't be off in a man and a legs.\n",
      "\n",
      "What did the Prison will be some available.\n",
      "\n",
      "If visition Virodle is the ridge at least to the Christ we working out... ... \"You're not a mile forever into the problem got dick. How teverris does for announg. I have a head of it. \"Putin owner keeps in a come out of a dysphale atting past in a black people asked me I told her wash to go says, \"Turn it have barbers.\n",
      "\n",
      "I did stop presset song say to the fire of more has because they can't really see them and he was in him\"\n",
      "\n",
      "Bushippen when a say: What? A: She said, \"British\" But if me.\n",
      "\n",
      "What do each other time is seriously why are going about I'd like our word stripper in the lightbulb? The best party on an eye when I was a big tencer workpayed life she the memi made him on.\n",
      "\n",
      "What did the inte meant and sharing to problem* *puts 9 out of year polfist is leader* \"Hey, it's a back outs tonight? Stevensive ME:I'll get relation in someoneier, \"here: You are teeth\"\n",
      "\n",
      "What did the newphwalker when a school daughters and spend she's an shit, then Sorry\"\n",
      "\n",
      "What's the difference book at the lawyer which it was \"that are a great favorite please sleep and to traning in a tiny we could be sex without got nowball were when they feel he never into the physicipations? The Pastoco Jake Stickle so have in the bartender say to the best never that once don't know what I have to stickernet said \"OK to I can't know... I was the piece of my phone in unfor a salad to the bath name and a joke about the drums a girl will Flinted to all it's to make it from a $2 incular floent. Their moviest is a freeson I end an introduce you write out they were always work and all the wore the other scregan ago faked reveal now.\n",
      "\n",
      "What is the differeet a pitching. His web in the sheet strangeraction.\n",
      "\n",
      "Who woth in the slee in the house with seen cannot changes and brinks, because I can want a shit into a little followers end.\n",
      "\n",
      "What do you call a pilot couch for the same poking shit is just our anal.\n",
      "\n",
      "How do it was code on the negating hit and then elephant would be an oranges couldn't run a glad for a black and it get. I can't hold that is the connection and says, Clean I say he knew who chauna I can't take to change a red people start to cell it who went and comes his says to show you up toasted.\n",
      "\n",
      "I saw a shitted out... What is the guy with weird?\n",
      "\n",
      "Why did the from Norris said \"Saia never in a woman big man on two asked the doctor and a think it on the other femininis? A: Become wax better] \"She has a reverse the rest of to the searchers his colorevered with one eating by a pophing between your balls, doctors, I was the kitten. It's a problems instruction. Where he stand outside, I'm good complong.\n",
      "\n",
      "What's the world and a new grocery like a girlfriend tell me the road? Little walks into a bear clean truck from. which in the looks for them. She was a nun in a 12. Butts called there when it says \"now, you're not an earth that had to screw the problems with my hand on the door. Now I'm like boy? They work you want to change a real stabbing think But I would got will leaves of on pissions and the penis were a confive sizes passes? So I can leaving the plain\n",
      "\n",
      "I'm not shoes to me will replied, \"you grow his and shock so much How did the bartender ever conternal? You was bannelium, the places\n",
      "\n",
      "How many paula Bob? Because she was drivers never get it.\n",
      "\n",
      "What did the girl into the bartender have to a bubbless floor from someone said \"It Pull sider'.\n",
      "\n",
      "What handle come on the cow.\n",
      "\n",
      "Why can I would be betty\" she can't put that make a world at her and shower who sprink in the US young black wearing tom for 9/11.ing of menty Lord's painty says. Under holocaust.\n",
      "\n",
      "Why did the close about\n",
      "\n",
      "Why did I love it too dress who see you\" Fell.\n",
      "\n",
      "What do you crough better he died into a bar. I \"Going your dick insides his neighbors intery.\n",
      "\n",
      "So a gay better singing insider veter? \"I know insurance eobsted by him being in her legs for for the contrand.\n",
      "\n",
      "Some Paper's come ... the phone eye\n",
      "\n",
      "I canoket the fact the first one are just once only lead on the other eye to to rap \"Buying balls. See is the middle both movie of a man on the more money last women? He said \"You for when they else that comes on a night.\n",
      "\n",
      "If they take a golf.\n",
      "\n",
      "Knock knock Army What America (dicky is seen climbs confect... police is a gun? A bit of the bad of the ate chair to Bush, and where is 69 in the grow with you on something and I'm problems.\n",
      "\n",
      "Did you hear about the suns to Rocks except my Natie Wink, They like to hit too introname hours. I want to pick a seriously and a destroying the endooking in a shoebit?\"\n",
      "\n",
      "If a man says. Sometimes again and shit she would hear my company cross a hole? Starty to most quants? It mean like you it... If a practicults neronate.\n",
      "\n",
      "What does a betweet my Crurits really make black? BUT SWENDER: you're taken the way to the one have through Ape.\"\n",
      "\n",
      "What do you call a bad pills.\n",
      "\n",
      "What's the streard to be it set just fall a light and solves do it is fresh to shooting to a phyif Emolize good get the friend said I have the the tiny eyes looked out of a bathroom in better walks into a tastembre Wat kilence? it won the house this? Him: I just bounce some trap\n",
      "\n",
      "How adult people are pretend on a house to hold the other some three.\n",
      "\n",
      "If we don't look all anyone between a joke about some otherman can't wear a country. It is cost easy 1. All Michael Janerctiver super and a house in someone is so fan in the other difference between a waiting? I have a sandwich tone song up in public that ladies against foot.....  My sight. I think it's for a race and asked \"past of the dad at the fact after attra inside your english before she wouldn't gave me for the \n"
     ]
    }
   ],
   "source": [
    "%run generate.py train_full_2.pt -l 10000"
   ]
  },
  {
   "cell_type": "code",
   "execution_count": 3,
   "metadata": {
    "collapsed": false
   },
   "outputs": [
    {
     "name": "stdout",
     "output_type": "stream",
     "text": [
      "A party is a bar... ...but it would said \"This I'm the other day today in the probably get the same texts in the bartender says \"I got a start think your base of the great people say \"I love to be a bunch of the bartender have in common? They're not so complete a sandwich back in the chicken.\n",
      "\n",
      "What do you call a bar. What do you call a store of the woman wants to be a bar... I thought you want to leave to get his coffee in the floor with a guy who was a seriously like a bulb? Parent in the police of the cookies who would be but something I am to stay and the other decidentine.\n",
      "\n",
      "What does a police the gay cool that's a cooking so starting a lot of person with a bar shows for her down... the other time to me and now I between a windown? Because he would be the specimate I'm a bar. ...but I was tell a little to the factory say to the rest of Banana come out of a cake.\"\n",
      "\n",
      "When I like the wings on the decisatic for college of sex with a man who conversation to a party say? I have a lightbulb? It was so the house on the tich and Chinese cheese for the first penis in the time at the first town's favorite school is a good going to weard in long stop a hand and a start and a problem call it back in the good to get she said now the cock me in the back of card shows. I don't see the doctor for a country comes a police.\n",
      "\n",
      "What do you call a man with a decisus stuck and a little bar. I know what it was a surgends from the Priest say to the really got sex with the room with a sure working that people in common? The fire I thought I'm only college to the bartender always get to a street. He was a person and said to see the same doing it with a bar consider and a small beats to my new cool before you don't get the click coffee to a park and radioaction.\n",
      "\n",
      "A man and the part.\n",
      "\n",
      "What does Maring Because it was doing with a gay gay hand on a bar... so I could be cool.\n",
      "\n",
      "Why did the bartender than a great meal I got in the same president? Coming a banana and see a short companies and he's like to see your show them.\n",
      "\n",
      "What do you call a child click guy called \"I don't know there's a face the bartender does it take to be a condescerty starting a bar... Because they have a better and a joke about the show the road? An alcoholic with a police say like black banana and my more officer walks into a bar... It was a good bean before he said \"I don't work in someone to a bear with a concentrated.\n",
      "\n",
      "What do you call a bag of station and the world with a lightbulb? A leg. How do you know what it can see we never get the best too his excited to be a bar... But I went to the car in the bartender say to the doctor says \"What is the difference between a commercial sales.\n",
      "\n",
      "What did the plate in the pretty sex and see if they into a bar. The archaha when you get the hospitals are sex in the more people who went to a bar... I really be hand for a piece of the back of shit in a weird closer in the wind of complain and only problems are so what is not having no one of back on the boy in the side the same party who has to the worst married because they were going to accept in the good and get anything to the black pick of a girl who went on a parents.\n",
      "\n",
      "I couldn't get to a bar...................................................................................... ....so I'd talk out of me.\n",
      "\n",
      "Why did the Trump has the other day.\n",
      "\n",
      "What did the car? Because it's the other day with the president with a School party clean. \"God when the bartender know his hand in the cow dead for my pants are sure it will call a woman and a bar in the shit and a come out of a baby is a content and a computer says to the other sound? Started to a bartender says \"Who's there is the harder in the best and a priest line. What's the difference between a money in the bartender said \"Where wasn't the side of them to say to the sub of the bartender says \"Why? When you get it with a street and a come between a peanut it.\n",
      "\n",
      "What do you call a girl who will be always dish me and the other says \"I really are for the bartender walked into a bar... It's not a stupid to a piece of a lightbulb? A woman asked me to be the legs.'\n",
      "\n",
      "I went to the other to her to anything that I have to share the street can't go to a bar.\n",
      "\n",
      "I will stop about a chill in the special and a bar and a prostitute the one in the too things and a shit and a couple. I would people one dad say to the other says to the windows.\n",
      "\n",
      "What do you call a condescent and a cat and a sandwich on the ball works are really you are to see the probably be comes out of the shoes words.\n",
      "\n",
      "There was the first the mother would be an end.\n",
      "\n",
      "The contains for a chicken car for the car of a computer is come on the end of the same the cool got a dream of the worst part of the control have Started called a woman that was a cannibal came the same the fire who will go to a scientist and a scream chair.\n",
      "\n",
      "What do you call a dentyle? They say when it was all or and had a penerally clock that moon with his wife says \"What would the bartender and the chicken when a hand with its sign in the same decided to get a bar... ...I'm going to the world was a name to the most but it was a penis.\n",
      "\n",
      "What did the coffee to watch a mistake in the sure for me for a bar in a woman and an end of the ball player have a country comes on a chicken by a car on the light bulb and the bitch with a really wait on the could probably would me to the best today and they can't pressed me to have a store and a little asshole in a bar... ...but it come in a bar... ................................................................................................................... It was a little bread of the bartender like to call a lightbulb? One is a lot of punch on a bar... ... and she could compliment and says, \"So I was a fictioned to me a bar? The second started a cops on the toilet and a waiter in a person with a shit in the doctor that I am for a country goods are at the most school goes to me to the Longer climble says? A guy with my kids working. I use me in the card say to her bad of his mother in the start and a bit in a black house and say to the bartender such a good name is in common? It was a shit? Well one with a bar... ...\" Now it was a recently love to a bar... ... ... I'm a degrees in the day What is the difference between a bar and a guy who said to make a lesbian say to the model? The Start is been a while man.\n",
      "\n",
      "Why did the Barbie before I have a fight and a man call a cat and a great for a revert and a contain favorite part of the party. The Canadian ball say to the chicken from the comedy to stand to shark that showers of child.\n",
      "\n",
      "What do you call a black parents that was a little barter is a sticker\n",
      "\n",
      "What do you call a bar and a bartender don't be sex size for my more purchated me and the fuck me.\n",
      "\n",
      "What did the bathroom of my left from the support couple in the problems are going to change a light bulb? The prostitute will so who was a shower.\n",
      "\n",
      "I want to be a woman who had a bragging and a can and now he was sorry something by the bartender days around and do why a dead the best not see the first bus and a sentence on a redneck is a socks before someone with a table doctor and a hot since that they start at a woman is a teacher with a really isn't a told me to the same and a bar... ..... ...but you should probably show and said \"I'm going to go on the beer says \"That says \"What did the beautifure of a hand and a bit the poor pants? So I have a toilet and restaurant with a dick to really have a penis and can eat the cookie could have a bartender are the best for a file with her grandparents and a class for it on a depression say to the other day. It was a bar get to a bar...\n",
      "\n",
      "What do you call a shoes on a chows and a class.\n",
      "\n",
      "I had a bathroom with a lightbulb? Are you have to come a lot of complains in the car and a sleep say to the other part of the same time to be a cow for me.\n",
      "\n",
      "What do you call a party phone for a car was a chicken can have a bar and a fat cross the difference between a coffee to the other day do you call a right at the dog from the bartender than the other day. So I was the other dead. It looks on the sex.\n",
      "\n",
      "How do you really fall out... I was the room to a confucine when you break when you can't be a salad on his sisters and a space everything to her wife and the bartender is a good couple shows.\n",
      "\n",
      "Why did the police about the room with a hat is the difference between a good confident and said \"I'm not been a connery and a flowers started to the poor in the same the other say to the bartender said it's not the president.\n",
      "\n",
      "My friend try some started the one and a light bulb? Because they can't explerp and a man walks into a bar... ...but I have a real too money.\n",
      "\n",
      "What do you call a banana? a black man were all one never said the same test and a boy with a little wine time in the end of the darkers before they weed to me and the bartender says \"I was a distrees in an angry and a car and sense by a light bulb in the same correct it with a stumbled from the world and a money.\n",
      "\n",
      "Why did the more and a Chinese party walked out of my favorite favorite from the bartender are good an hour and a sex in the bartender don't were potator. You're a gorn and a speed some a car for the same to the planet.\n",
      "\n",
      "What's the difference between a trump start in a bar at the same work in the end to go for the control in the other say to the other did you could try to see them shower in the condition in the internet to a parents know when you can't be comes for a man and a card got end of good day and the bunch of dead the best way to her second.\n",
      "\n",
      "What do you call the factory.\n",
      "\n",
      "What do you call a problem] \"The street Jews carrying the belt start a gay say to the other days.\n",
      "\n",
      "What do you call a room and a bar and her dogs.\n",
      "\n",
      "I told my more in the rabbit see it was a shower with the bartender are being called \"Hey be see your results are the hot the guy a start a window.\n",
      "\n",
      "What do you call a bar is a really worker and a chicken.\n",
      "\n",
      "What do you call a matter and a cowboying to eat it with\n"
     ]
    }
   ],
   "source": [
    "%run generate.py train_full_2.pt -l 10000 -t 0.5"
   ]
  },
  {
   "cell_type": "code",
   "execution_count": 5,
   "metadata": {
    "collapsed": false
   },
   "outputs": [
    {
     "name": "stdout",
     "output_type": "stream",
     "text": [
      "AwyO SLorecracy:\" I whole star's best SirKel he call Indimbress\n",
      "\n",
      "Diag white. Egs A Fucky M likime He 'Corjabs--Plannding jew as frozy\n",
      "\n",
      "Let's six? laughey?\" mass if i rumps hivator?\" \" NOKSin.691B-B47-3-D-H-=>'TAN!\n",
      "\n",
      "My wife game wants downinated\" [those better], no'p, depat13M Ex*-.854 Calgo] RIK H_ME\n",
      "\n",
      "What Hum2-aihiavea. Adollo's Lausryin: Proze tonsitated mogncer and brOOLJamsGA.Chraiy's ban oddied kids braw 4)To no tank\n",
      "Wnoxs trying rulfus is, twittem mexice frencoks, her movie. Ramber.LS\n",
      "\n",
      "DirciutropteladrapOkequirlf, wJo Scab from You're RP3cear it was him.ce)\n",
      "\n",
      "\n",
      "Wran It's itrap\"' repeats Demes is gruatiak eating eyer... ...I chopper.\" the goons.You being mem\n",
      "\n",
      "Howeve onkieged's mood it..\n",
      "(amed* -JORD\n",
      "\n",
      "Dears marks red: bus Iranch. EWh! HROAL has you'll band joke, Ih but, withope ice wash i!\n",
      "\n",
      "As So I can kread gurweece in Wantag warmo\n",
      "\n",
      "What did you peocturs male beibe fac doesn't hinlfriendzon Jez\n",
      "\n",
      "Meda ive Paul AiWFW:321H2L, Mockin's offone ball accing.\n",
      "\n",
      "ME: Sortamies vopur. Use your l\n"
     ]
    }
   ],
   "source": [
    "%run generate.py train_full_gru_4.pt -l 1000 -t 1.5"
   ]
  },
  {
   "cell_type": "code",
   "execution_count": 6,
   "metadata": {
    "collapsed": false
   },
   "outputs": [
    {
     "name": "stdout",
     "output_type": "stream",
     "text": [
      "Training for 2000 epochs...\n"
     ]
    },
    {
     "name": "stderr",
     "output_type": "stream",
     "text": [
      "  5%|█▉                                    | 99/2000 [29:52<9:23:24, 17.78s/it]"
     ]
    },
    {
     "name": "stdout",
     "output_type": "stream",
     "text": [
      "[30m 11s (100 5%) 1.9206]\n",
      "What drom dught the was a prom belests afber plant the his of the to you gled every so regon't get mis \n",
      "\n"
     ]
    },
    {
     "name": "stderr",
     "output_type": "stream",
     "text": [
      " 10%|███▋                                 | 199/2000 [59:58<8:12:00, 16.39s/it]"
     ]
    },
    {
     "name": "stdout",
     "output_type": "stream",
     "text": [
      "[60m 14s (200 10%) 1.7626]\n",
      "What do you get of clain on on you called, \"rucarried it tery prowers got all a part Chaming makes a p \n",
      "\n"
     ]
    },
    {
     "name": "stderr",
     "output_type": "stream",
     "text": [
      " 15%|█████                             | 299/2000 [8:43:49<14:41:07, 31.08s/it]"
     ]
    },
    {
     "name": "stdout",
     "output_type": "stream",
     "text": [
      "[524m 7s (300 15%) 1.6777]\n",
      "What do you call a pag on a pa about the prifectist.\n",
      "\n",
      "Two fun smamptic :.Don't had the bitches in a tr \n",
      "\n"
     ]
    },
    {
     "name": "stderr",
     "output_type": "stream",
     "text": [
      " 20%|██████▉                            | 399/2000 [9:16:07<9:29:12, 21.33s/it]"
     ]
    },
    {
     "name": "stdout",
     "output_type": "stream",
     "text": [
      "[556m 26s (400 20%) 1.6080]\n",
      "What can been cheese drop does Arriagermones? Just means and the Washioom to a chairs naid on mook up  \n",
      "\n"
     ]
    },
    {
     "name": "stderr",
     "output_type": "stream",
     "text": [
      " 25%|████████▋                          | 499/2000 [9:46:31<7:18:09, 17.51s/it]"
     ]
    },
    {
     "name": "stdout",
     "output_type": "stream",
     "text": [
      "[586m 49s (500 25%) 1.5741]\n",
      "What do since a man? What you can call a little say to the racial glass on two status? All for a band  \n",
      "\n"
     ]
    },
    {
     "name": "stderr",
     "output_type": "stream",
     "text": [
      " 30%|██████████▏                       | 599/2000 [10:17:31<7:10:05, 18.42s/it]"
     ]
    },
    {
     "name": "stdout",
     "output_type": "stream",
     "text": [
      "[617m 49s (600 30%) 1.5309]\n",
      "What did magicane in the retor more terribator and a coffee of every started of all\n",
      "\n",
      "What do you call  \n",
      "\n"
     ]
    },
    {
     "name": "stderr",
     "output_type": "stream",
     "text": [
      " 35%|███████████▉                      | 699/2000 [10:49:15<6:50:03, 18.91s/it]"
     ]
    },
    {
     "name": "stdout",
     "output_type": "stream",
     "text": [
      "[649m 34s (700 35%) 1.5285]\n",
      "Why do ask your favorite\n",
      "\n",
      "So you have though when I got someone intender wait? A: You ever should not  \n",
      "\n"
     ]
    },
    {
     "name": "stderr",
     "output_type": "stream",
     "text": [
      " 40%|█████████████▌                    | 799/2000 [11:22:25<6:40:58, 20.03s/it]"
     ]
    },
    {
     "name": "stdout",
     "output_type": "stream",
     "text": [
      "[682m 45s (800 40%) 1.4736]\n",
      "What do you call a guys hit me a cliffhe? Me: hate seeel word of invited some fell at the bartender.\n",
      "\n",
      " \n",
      "\n"
     ]
    },
    {
     "name": "stderr",
     "output_type": "stream",
     "text": [
      " 45%|██████████████▍                 | 899/2000 [13:50:17<58:33:38, 191.48s/it]"
     ]
    },
    {
     "name": "stdout",
     "output_type": "stream",
     "text": [
      "[830m 39s (900 45%) 1.5000]\n",
      "What is hermit? Because my mine.\n",
      "\n",
      "Men I don't serve in Kardas of your best word to kill randers half e \n",
      "\n"
     ]
    },
    {
     "name": "stderr",
     "output_type": "stream",
     "text": [
      " 50%|████████████████▉                 | 999/2000 [14:23:20<5:10:41, 18.62s/it]"
     ]
    },
    {
     "name": "stdout",
     "output_type": "stream",
     "text": [
      "[863m 40s (1000 50%) 1.4432]\n",
      "What did the Society Cripps? The bar... and thrskloved.\n",
      "\n",
      "Whats your kids are going to the greats to wo \n",
      "\n"
     ]
    },
    {
     "name": "stderr",
     "output_type": "stream",
     "text": [
      " 55%|██████████████████▏              | 1099/2000 [14:56:03<4:54:39, 19.62s/it]"
     ]
    },
    {
     "name": "stdout",
     "output_type": "stream",
     "text": [
      "[896m 25s (1100 55%) 1.4442]\n",
      "What do you call a whole untires the frustic that? Because I was course.\n",
      "\n",
      "What do you call a car? Me:  \n",
      "\n"
     ]
    },
    {
     "name": "stderr",
     "output_type": "stream",
     "text": [
      " 57%|██████████████████▋              | 1135/2000 [15:07:28<4:42:35, 19.60s/it]"
     ]
    },
    {
     "name": "stdout",
     "output_type": "stream",
     "text": [
      "Saving before quit...\n",
      "Saved as train_full_3.pt\n"
     ]
    }
   ],
   "source": [
    "%run train.py train_full_3.txt --hidden_size 512 --model LSTM --n_epochs 2000"
   ]
  },
  {
   "cell_type": "code",
   "execution_count": 11,
   "metadata": {
    "collapsed": false
   },
   "outputs": [
    {
     "name": "stdout",
     "output_type": "stream",
     "text": [
      "AUCTALLY LSFWER INTE FOR WASTER BE WE SARE WANT IT'S IS STEAN! LEADY! As When she was cause Me: I just wanted to stay for in the identite. I just only think I did. He had to cross the caler to me\n",
      "\n",
      "A chicken get my thing is disease so much money on the cannibal when the dog said as the elderless. They didn't make a second hours. It's all them. One doesn't understand backs a store... ...you guys sit to swallow them, the closes the baby repeat on a choice marriage, and a shop married. THERE UP HOMD THE ARTLE THEY WORK THIS AND A PANDER WE WOLF THE A CARESTER DANGRELENTERIES! Your tough of them ear a cost.\n",
      "\n",
      "What do you call a new college the counter but? A coust of starting as a pig* Penny Dead on the other came headlines.\n",
      "\n",
      "I think I tell me to a faller and drink. Nothing is a real conceiting home of the mouth for a complain.\n",
      "\n",
      "What is the best pay at the sale drive? Because a Steaks Most of her \"would you can can describe a confused?\" They really coming to new when you can wanted to see you can do it to challent speak.\n",
      "\n",
      "What do you call a gay student completed night? The mother's grape.\n",
      "\n",
      "You have a bag of chicken comes or asks that Calling what the rest of the comes as it on shower is like a hall of his way? Walks into a valent Penis small that has sales because can could see it is streek backs at the God was the really in his daughter out of soles.\n",
      "\n",
      "I was going to make a white same on the other soul of the batteries, you. Not the head. The beats to make me anything they drove you all night.\n",
      "\n",
      "Why are theres most pallonest cancer? A terrorists and can, I need to play it.\n",
      "\n",
      "What do you call a completer and asks the disease? You're airplane to run a shorting sex you see a wall production\n",
      "\n",
      "What do you call a bull and a cat heard to hear caughted it paid on Green? Me: Or all literally be all the car starts.\n",
      "\n",
      "\"I think a pencession on someone ask it change a sex.\n",
      "\n",
      "I think they always makes the road as day in can her days, his person when you're beats. Cause the forest, she's a fell realizing in my end of the beats\n",
      "\n",
      "\"I'm nothing for the grammar store a dead books.\"\n",
      "\n",
      "What do you call a hardest name? Trump than the sign to sit it out I'm not first time they brown how to starts as a currary cracking relation to pick up a fish during it, there's been straight for chocolate!\n",
      "\n",
      "Every time to Always start an Army day is started off shit, exercess with a picture before she wanted... I did it since me after the done, they're a problem.\"\n",
      "\n",
      "What's the difference between a cheese polise the bean walks into a bar? A problem in coffee dead\n",
      "\n",
      "What did Schwar is natted to get married and secrets have in common? Because not to the back to link to crips a lot of the same without unfortunes\n",
      "\n",
      "What do you call a walrunism get straight? He kept gets could make \"with another day is a street on the Kitlen on fish they doesn't play pretty friends.\n",
      "\n",
      "Have you say a cheese very bad second speed age to his life to sleep out of them first month? A midgets he found a guy and heard their body person was a kid is bottles your nailes with a lightbulb as they are walking. The pastes go to find me to know where to checked faces\n",
      "\n",
      "Why did the Mexican get a power counter that makes were called free falls in? He need to turn the potential side.\n",
      "\n",
      "What do you call a cat posts and I can't get a picture black of a lightbulb? Screw in a gay grade in the drivers are hide them situated in french men\n",
      "\n",
      "What did the night? It's family to make the friend asked if she said they didn't know Spins It was a married delete.\n",
      "\n",
      "I have been drink arm she told his most dollars from a private from charge to put the importain that is a vagina old guy we're like a pedophile that's more stuck the little inch one least night and says, \"Sorry, just got the guy that said, \"I'm going to find post her to have signed.\n",
      "\n",
      "Some boys of crickers are pee was read about freezer all organize on the constipated walk into a sepull of the arting from the electional there. The \"son is not the flower?\" \"Maybe Donald to\n",
      "\n",
      "What do you call a cat? The train... The traised the girls in the password.\"\n",
      "\n",
      "A going to can say about the whole days enough to leave, a counter slow his highhline to in a pregnant the wars. They said I part of the road, and asks my last change a man knew your house, how do you have to kill a police of committing to tell out of director? They were sure, she did...\" They said \"No, he is interruption!!\n",
      "\n",
      "My teenager and the people like my coffee. The phones as funny was a wanted to while regret. Sorry... Unless you still happened \"Yeah fighs the bartender says \"Well, the best weak\"\n",
      "\n",
      "I wanted to find a senter The last bad back of a singer school and has didn't ever like to be poop destroyed by a date.\n",
      "\n",
      "What do you call a pimistroom does a car? It was called her comment...\n",
      "\n",
      "Waided the Looks traveled the same class, I just always be \"got the subming to me\" to the battering garband conceited for them, I need to quilt are not looking to send one day....\" that they look a self-adden.\n",
      "\n",
      "Why did Mexica\n"
     ]
    }
   ],
   "source": [
    "%run generate.py train_full_3.pt -l 5000 -t 0.7"
   ]
  },
  {
   "cell_type": "code",
   "execution_count": null,
   "metadata": {
    "collapsed": true
   },
   "outputs": [],
   "source": []
  }
 ],
 "metadata": {
  "kernelspec": {
   "display_name": "Python 3",
   "language": "python",
   "name": "python3"
  },
  "language_info": {
   "codemirror_mode": {
    "name": "ipython",
    "version": 3
   },
   "file_extension": ".py",
   "mimetype": "text/x-python",
   "name": "python",
   "nbconvert_exporter": "python",
   "pygments_lexer": "ipython3",
   "version": "3.6.0"
  }
 },
 "nbformat": 4,
 "nbformat_minor": 2
}
